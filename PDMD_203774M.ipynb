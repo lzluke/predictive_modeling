{
 "cells": [
  {
   "cell_type": "markdown",
   "id": "1cb15cd4",
   "metadata": {},
   "source": [
    "# Cleaning Steps\n",
    "\n",
    "This Notebook will contain the cleaning steps that i will be performing\n",
    "\n",
    "\n",
    "\n"
   ]
  },
  {
   "cell_type": "code",
   "execution_count": 1,
   "id": "58286678",
   "metadata": {},
   "outputs": [],
   "source": [
    "import pandas as pd"
   ]
  },
  {
   "cell_type": "code",
   "execution_count": 2,
   "id": "bdda7e76",
   "metadata": {},
   "outputs": [],
   "source": [
    "import numpy as np"
   ]
  },
  {
   "cell_type": "code",
   "execution_count": 3,
   "id": "859faebb",
   "metadata": {},
   "outputs": [],
   "source": [
    "import seaborn as sns"
   ]
  },
  {
   "cell_type": "code",
   "execution_count": 4,
   "id": "d3192f8b",
   "metadata": {},
   "outputs": [],
   "source": [
    "import matplotlib.pyplot as plt"
   ]
  },
  {
   "cell_type": "code",
   "execution_count": 5,
   "id": "7eda0241",
   "metadata": {},
   "outputs": [],
   "source": [
    "df = pd.read_csv('data.csv', encoding='utf-8')"
   ]
  },
  {
   "cell_type": "code",
   "execution_count": 6,
   "id": "8f595582",
   "metadata": {},
   "outputs": [
    {
     "data": {
      "text/html": [
       "<div>\n",
       "<style scoped>\n",
       "    .dataframe tbody tr th:only-of-type {\n",
       "        vertical-align: middle;\n",
       "    }\n",
       "\n",
       "    .dataframe tbody tr th {\n",
       "        vertical-align: top;\n",
       "    }\n",
       "\n",
       "    .dataframe thead th {\n",
       "        text-align: right;\n",
       "    }\n",
       "</style>\n",
       "<table border=\"1\" class=\"dataframe\">\n",
       "  <thead>\n",
       "    <tr style=\"text-align: right;\">\n",
       "      <th></th>\n",
       "      <th>Artist Name</th>\n",
       "      <th>Track Name</th>\n",
       "      <th>Popularity</th>\n",
       "      <th>danceability</th>\n",
       "      <th>energy</th>\n",
       "      <th>key</th>\n",
       "      <th>loudness</th>\n",
       "      <th>mode</th>\n",
       "      <th>speechiness</th>\n",
       "      <th>acousticness</th>\n",
       "      <th>instrumentalness</th>\n",
       "      <th>liveness</th>\n",
       "      <th>valence</th>\n",
       "      <th>tempo</th>\n",
       "      <th>duration_in min/ms</th>\n",
       "      <th>time_signature</th>\n",
       "      <th>Class</th>\n",
       "    </tr>\n",
       "  </thead>\n",
       "  <tbody>\n",
       "    <tr>\n",
       "      <th>0</th>\n",
       "      <td>Bruno Mars</td>\n",
       "      <td>That's What I Like (feat. Gucci Mane)</td>\n",
       "      <td>60.0</td>\n",
       "      <td>0.854</td>\n",
       "      <td>0.564</td>\n",
       "      <td>1.0</td>\n",
       "      <td>-4.964</td>\n",
       "      <td>1</td>\n",
       "      <td>0.0485</td>\n",
       "      <td>0.017100</td>\n",
       "      <td>NaN</td>\n",
       "      <td>0.0849</td>\n",
       "      <td>0.8990</td>\n",
       "      <td>134.071</td>\n",
       "      <td>234596.0</td>\n",
       "      <td>4</td>\n",
       "      <td>5</td>\n",
       "    </tr>\n",
       "    <tr>\n",
       "      <th>1</th>\n",
       "      <td>Boston</td>\n",
       "      <td>Hitch a Ride</td>\n",
       "      <td>54.0</td>\n",
       "      <td>0.382</td>\n",
       "      <td>0.814</td>\n",
       "      <td>3.0</td>\n",
       "      <td>-7.230</td>\n",
       "      <td>1</td>\n",
       "      <td>0.0406</td>\n",
       "      <td>0.001100</td>\n",
       "      <td>0.004010</td>\n",
       "      <td>0.1010</td>\n",
       "      <td>0.5690</td>\n",
       "      <td>116.454</td>\n",
       "      <td>251733.0</td>\n",
       "      <td>4</td>\n",
       "      <td>10</td>\n",
       "    </tr>\n",
       "    <tr>\n",
       "      <th>2</th>\n",
       "      <td>The Raincoats</td>\n",
       "      <td>No Side to Fall In</td>\n",
       "      <td>35.0</td>\n",
       "      <td>0.434</td>\n",
       "      <td>0.614</td>\n",
       "      <td>6.0</td>\n",
       "      <td>-8.334</td>\n",
       "      <td>1</td>\n",
       "      <td>0.0525</td>\n",
       "      <td>0.486000</td>\n",
       "      <td>0.000196</td>\n",
       "      <td>0.3940</td>\n",
       "      <td>0.7870</td>\n",
       "      <td>147.681</td>\n",
       "      <td>109667.0</td>\n",
       "      <td>4</td>\n",
       "      <td>6</td>\n",
       "    </tr>\n",
       "    <tr>\n",
       "      <th>3</th>\n",
       "      <td>Deno</td>\n",
       "      <td>Lingo (feat. J.I &amp; Chunkz)</td>\n",
       "      <td>66.0</td>\n",
       "      <td>0.853</td>\n",
       "      <td>0.597</td>\n",
       "      <td>10.0</td>\n",
       "      <td>-6.528</td>\n",
       "      <td>0</td>\n",
       "      <td>0.0555</td>\n",
       "      <td>0.021200</td>\n",
       "      <td>NaN</td>\n",
       "      <td>0.1220</td>\n",
       "      <td>0.5690</td>\n",
       "      <td>107.033</td>\n",
       "      <td>173968.0</td>\n",
       "      <td>4</td>\n",
       "      <td>5</td>\n",
       "    </tr>\n",
       "    <tr>\n",
       "      <th>4</th>\n",
       "      <td>Red Hot Chili Peppers</td>\n",
       "      <td>Nobody Weird Like Me - Remastered</td>\n",
       "      <td>53.0</td>\n",
       "      <td>0.167</td>\n",
       "      <td>0.975</td>\n",
       "      <td>2.0</td>\n",
       "      <td>-4.279</td>\n",
       "      <td>1</td>\n",
       "      <td>0.2160</td>\n",
       "      <td>0.000169</td>\n",
       "      <td>0.016100</td>\n",
       "      <td>0.1720</td>\n",
       "      <td>0.0918</td>\n",
       "      <td>199.060</td>\n",
       "      <td>229960.0</td>\n",
       "      <td>4</td>\n",
       "      <td>10</td>\n",
       "    </tr>\n",
       "  </tbody>\n",
       "</table>\n",
       "</div>"
      ],
      "text/plain": [
       "             Artist Name                             Track Name  Popularity  \\\n",
       "0             Bruno Mars  That's What I Like (feat. Gucci Mane)        60.0   \n",
       "1                 Boston                           Hitch a Ride        54.0   \n",
       "2          The Raincoats                     No Side to Fall In        35.0   \n",
       "3                   Deno             Lingo (feat. J.I & Chunkz)        66.0   \n",
       "4  Red Hot Chili Peppers      Nobody Weird Like Me - Remastered        53.0   \n",
       "\n",
       "   danceability  energy   key  loudness  mode  speechiness  acousticness  \\\n",
       "0         0.854   0.564   1.0    -4.964     1       0.0485      0.017100   \n",
       "1         0.382   0.814   3.0    -7.230     1       0.0406      0.001100   \n",
       "2         0.434   0.614   6.0    -8.334     1       0.0525      0.486000   \n",
       "3         0.853   0.597  10.0    -6.528     0       0.0555      0.021200   \n",
       "4         0.167   0.975   2.0    -4.279     1       0.2160      0.000169   \n",
       "\n",
       "   instrumentalness  liveness  valence    tempo  duration_in min/ms  \\\n",
       "0               NaN    0.0849   0.8990  134.071            234596.0   \n",
       "1          0.004010    0.1010   0.5690  116.454            251733.0   \n",
       "2          0.000196    0.3940   0.7870  147.681            109667.0   \n",
       "3               NaN    0.1220   0.5690  107.033            173968.0   \n",
       "4          0.016100    0.1720   0.0918  199.060            229960.0   \n",
       "\n",
       "   time_signature  Class  \n",
       "0               4      5  \n",
       "1               4     10  \n",
       "2               4      6  \n",
       "3               4      5  \n",
       "4               4     10  "
      ]
     },
     "execution_count": 6,
     "metadata": {},
     "output_type": "execute_result"
    }
   ],
   "source": [
    "df.head()"
   ]
  },
  {
   "cell_type": "markdown",
   "id": "ec9ad73d",
   "metadata": {},
   "source": [
    "#### Correlation Value of the features compared to the label"
   ]
  },
  {
   "cell_type": "code",
   "execution_count": 7,
   "id": "30d5827d",
   "metadata": {},
   "outputs": [
    {
     "data": {
      "image/png": "[encoded data removed]",
      "text/plain": [
       "<Figure size 1152x432 with 2 Axes>"
      ]
     },
     "metadata": {
      "needs_background": "light"
     },
     "output_type": "display_data"
    }
   ],
   "source": [
    "plt.figure(figsize=(16, 6))\n",
    "heatmap = sns.heatmap(df.corr(), vmin=-1, vmax=1, annot=True, cmap='BrBG')\n",
    "heatmap.set_title('Correlation Heatmap', fontdict={'fontsize':12}, pad=12);"
   ]
  },
  {
   "cell_type": "code",
   "execution_count": 8,
   "id": "0cfc1e74",
   "metadata": {},
   "outputs": [
    {
     "name": "stdout",
     "output_type": "stream",
     "text": [
      "<class 'pandas.core.frame.DataFrame'>\n",
      "RangeIndex: 17996 entries, 0 to 17995\n",
      "Data columns (total 17 columns):\n",
      " #   Column              Non-Null Count  Dtype  \n",
      "---  ------              --------------  -----  \n",
      " 0   Artist Name         17996 non-null  object \n",
      " 1   Track Name          17996 non-null  object \n",
      " 2   Popularity          17568 non-null  float64\n",
      " 3   danceability        17996 non-null  float64\n",
      " 4   energy              17996 non-null  float64\n",
      " 5   key                 15982 non-null  float64\n",
      " 6   loudness            17996 non-null  float64\n",
      " 7   mode                17996 non-null  int64  \n",
      " 8   speechiness         17996 non-null  float64\n",
      " 9   acousticness        17996 non-null  float64\n",
      " 10  instrumentalness    13619 non-null  float64\n",
      " 11  liveness            17996 non-null  float64\n",
      " 12  valence             17996 non-null  float64\n",
      " 13  tempo               17996 non-null  float64\n",
      " 14  duration_in min/ms  17996 non-null  float64\n",
      " 15  time_signature      17996 non-null  int64  \n",
      " 16  Class               17996 non-null  int64  \n",
      "dtypes: float64(12), int64(3), object(2)\n",
      "memory usage: 2.3+ MB\n"
     ]
    }
   ],
   "source": [
    "df.info()"
   ]
  },
  {
   "cell_type": "code",
   "execution_count": 9,
   "id": "b8e2e81b",
   "metadata": {},
   "outputs": [
    {
     "data": {
      "text/html": [
       "<div>\n",
       "<style scoped>\n",
       "    .dataframe tbody tr th:only-of-type {\n",
       "        vertical-align: middle;\n",
       "    }\n",
       "\n",
       "    .dataframe tbody tr th {\n",
       "        vertical-align: top;\n",
       "    }\n",
       "\n",
       "    .dataframe thead th {\n",
       "        text-align: right;\n",
       "    }\n",
       "</style>\n",
       "<table border=\"1\" class=\"dataframe\">\n",
       "  <thead>\n",
       "    <tr style=\"text-align: right;\">\n",
       "      <th></th>\n",
       "      <th>Popularity</th>\n",
       "      <th>danceability</th>\n",
       "      <th>energy</th>\n",
       "      <th>key</th>\n",
       "      <th>loudness</th>\n",
       "      <th>mode</th>\n",
       "      <th>speechiness</th>\n",
       "      <th>acousticness</th>\n",
       "      <th>instrumentalness</th>\n",
       "      <th>liveness</th>\n",
       "      <th>valence</th>\n",
       "      <th>tempo</th>\n",
       "      <th>duration_in min/ms</th>\n",
       "      <th>time_signature</th>\n",
       "      <th>Class</th>\n",
       "    </tr>\n",
       "  </thead>\n",
       "  <tbody>\n",
       "    <tr>\n",
       "      <th>count</th>\n",
       "      <td>17568.000000</td>\n",
       "      <td>17996.000000</td>\n",
       "      <td>17996.000000</td>\n",
       "      <td>15982.000000</td>\n",
       "      <td>17996.000000</td>\n",
       "      <td>17996.000000</td>\n",
       "      <td>17996.000000</td>\n",
       "      <td>17996.000000</td>\n",
       "      <td>13619.000000</td>\n",
       "      <td>17996.000000</td>\n",
       "      <td>17996.000000</td>\n",
       "      <td>17996.000000</td>\n",
       "      <td>1.799600e+04</td>\n",
       "      <td>17996.000000</td>\n",
       "      <td>17996.000000</td>\n",
       "    </tr>\n",
       "    <tr>\n",
       "      <th>mean</th>\n",
       "      <td>44.512124</td>\n",
       "      <td>0.543433</td>\n",
       "      <td>0.662777</td>\n",
       "      <td>5.952447</td>\n",
       "      <td>-7.910660</td>\n",
       "      <td>0.636753</td>\n",
       "      <td>0.079707</td>\n",
       "      <td>0.247082</td>\n",
       "      <td>0.177562</td>\n",
       "      <td>0.196170</td>\n",
       "      <td>0.486208</td>\n",
       "      <td>122.623294</td>\n",
       "      <td>2.007445e+05</td>\n",
       "      <td>3.924039</td>\n",
       "      <td>6.695821</td>\n",
       "    </tr>\n",
       "    <tr>\n",
       "      <th>std</th>\n",
       "      <td>17.426928</td>\n",
       "      <td>0.166268</td>\n",
       "      <td>0.235373</td>\n",
       "      <td>3.196854</td>\n",
       "      <td>4.049151</td>\n",
       "      <td>0.480949</td>\n",
       "      <td>0.083576</td>\n",
       "      <td>0.310632</td>\n",
       "      <td>0.304048</td>\n",
       "      <td>0.159212</td>\n",
       "      <td>0.240195</td>\n",
       "      <td>29.571527</td>\n",
       "      <td>1.119891e+05</td>\n",
       "      <td>0.361618</td>\n",
       "      <td>3.206073</td>\n",
       "    </tr>\n",
       "    <tr>\n",
       "      <th>min</th>\n",
       "      <td>1.000000</td>\n",
       "      <td>0.059600</td>\n",
       "      <td>0.000020</td>\n",
       "      <td>1.000000</td>\n",
       "      <td>-39.952000</td>\n",
       "      <td>0.000000</td>\n",
       "      <td>0.022500</td>\n",
       "      <td>0.000000</td>\n",
       "      <td>0.000001</td>\n",
       "      <td>0.011900</td>\n",
       "      <td>0.018300</td>\n",
       "      <td>30.557000</td>\n",
       "      <td>5.016500e-01</td>\n",
       "      <td>1.000000</td>\n",
       "      <td>0.000000</td>\n",
       "    </tr>\n",
       "    <tr>\n",
       "      <th>25%</th>\n",
       "      <td>33.000000</td>\n",
       "      <td>0.432000</td>\n",
       "      <td>0.509000</td>\n",
       "      <td>3.000000</td>\n",
       "      <td>-9.538000</td>\n",
       "      <td>0.000000</td>\n",
       "      <td>0.034800</td>\n",
       "      <td>0.004300</td>\n",
       "      <td>0.000089</td>\n",
       "      <td>0.097500</td>\n",
       "      <td>0.297000</td>\n",
       "      <td>99.620750</td>\n",
       "      <td>1.663370e+05</td>\n",
       "      <td>4.000000</td>\n",
       "      <td>5.000000</td>\n",
       "    </tr>\n",
       "    <tr>\n",
       "      <th>50%</th>\n",
       "      <td>44.000000</td>\n",
       "      <td>0.545000</td>\n",
       "      <td>0.700000</td>\n",
       "      <td>6.000000</td>\n",
       "      <td>-7.016000</td>\n",
       "      <td>1.000000</td>\n",
       "      <td>0.047400</td>\n",
       "      <td>0.081400</td>\n",
       "      <td>0.003910</td>\n",
       "      <td>0.129000</td>\n",
       "      <td>0.481000</td>\n",
       "      <td>120.065500</td>\n",
       "      <td>2.091600e+05</td>\n",
       "      <td>4.000000</td>\n",
       "      <td>8.000000</td>\n",
       "    </tr>\n",
       "    <tr>\n",
       "      <th>75%</th>\n",
       "      <td>56.000000</td>\n",
       "      <td>0.659000</td>\n",
       "      <td>0.860000</td>\n",
       "      <td>9.000000</td>\n",
       "      <td>-5.189000</td>\n",
       "      <td>1.000000</td>\n",
       "      <td>0.083000</td>\n",
       "      <td>0.434000</td>\n",
       "      <td>0.200000</td>\n",
       "      <td>0.258000</td>\n",
       "      <td>0.672000</td>\n",
       "      <td>141.969250</td>\n",
       "      <td>2.524900e+05</td>\n",
       "      <td>4.000000</td>\n",
       "      <td>10.000000</td>\n",
       "    </tr>\n",
       "    <tr>\n",
       "      <th>max</th>\n",
       "      <td>100.000000</td>\n",
       "      <td>0.989000</td>\n",
       "      <td>1.000000</td>\n",
       "      <td>11.000000</td>\n",
       "      <td>1.355000</td>\n",
       "      <td>1.000000</td>\n",
       "      <td>0.955000</td>\n",
       "      <td>0.996000</td>\n",
       "      <td>0.996000</td>\n",
       "      <td>1.000000</td>\n",
       "      <td>0.986000</td>\n",
       "      <td>217.416000</td>\n",
       "      <td>1.477187e+06</td>\n",
       "      <td>5.000000</td>\n",
       "      <td>10.000000</td>\n",
       "    </tr>\n",
       "  </tbody>\n",
       "</table>\n",
       "</div>"
      ],
      "text/plain": [
       "         Popularity  danceability        energy           key      loudness  \\\n",
       "count  17568.000000  17996.000000  17996.000000  15982.000000  17996.000000   \n",
       "mean      44.512124      0.543433      0.662777      5.952447     -7.910660   \n",
       "std       17.426928      0.166268      0.235373      3.196854      4.049151   \n",
       "min        1.000000      0.059600      0.000020      1.000000    -39.952000   \n",
       "25%       33.000000      0.432000      0.509000      3.000000     -9.538000   \n",
       "50%       44.000000      0.545000      0.700000      6.000000     -7.016000   \n",
       "75%       56.000000      0.659000      0.860000      9.000000     -5.189000   \n",
       "max      100.000000      0.989000      1.000000     11.000000      1.355000   \n",
       "\n",
       "               mode   speechiness  acousticness  instrumentalness  \\\n",
       "count  17996.000000  17996.000000  17996.000000      13619.000000   \n",
       "mean       0.636753      0.079707      0.247082          0.177562   \n",
       "std        0.480949      0.083576      0.310632          0.304048   \n",
       "min        0.000000      0.022500      0.000000          0.000001   \n",
       "25%        0.000000      0.034800      0.004300          0.000089   \n",
       "50%        1.000000      0.047400      0.081400          0.003910   \n",
       "75%        1.000000      0.083000      0.434000          0.200000   \n",
       "max        1.000000      0.955000      0.996000          0.996000   \n",
       "\n",
       "           liveness       valence         tempo  duration_in min/ms  \\\n",
       "count  17996.000000  17996.000000  17996.000000        1.799600e+04   \n",
       "mean       0.196170      0.486208    122.623294        2.007445e+05   \n",
       "std        0.159212      0.240195     29.571527        1.119891e+05   \n",
       "min        0.011900      0.018300     30.557000        5.016500e-01   \n",
       "25%        0.097500      0.297000     99.620750        1.663370e+05   \n",
       "50%        0.129000      0.481000    120.065500        2.091600e+05   \n",
       "75%        0.258000      0.672000    141.969250        2.524900e+05   \n",
       "max        1.000000      0.986000    217.416000        1.477187e+06   \n",
       "\n",
       "       time_signature         Class  \n",
       "count    17996.000000  17996.000000  \n",
       "mean         3.924039      6.695821  \n",
       "std          0.361618      3.206073  \n",
       "min          1.000000      0.000000  \n",
       "25%          4.000000      5.000000  \n",
       "50%          4.000000      8.000000  \n",
       "75%          4.000000     10.000000  \n",
       "max          5.000000     10.000000  "
      ]
     },
     "execution_count": 9,
     "metadata": {},
     "output_type": "execute_result"
    }
   ],
   "source": [
    "df.describe()"
   ]
  },
  {
   "cell_type": "markdown",
   "id": "f4ec5f0c",
   "metadata": {},
   "source": [
    "#### Distribution of the Values"
   ]
  },
  {
   "cell_type": "code",
   "execution_count": 10,
   "id": "da2bc76d",
   "metadata": {},
   "outputs": [
    {
     "name": "stderr",
     "output_type": "stream",
     "text": [
      "<ipython-input-10-73ef92ebd3eb>:3: UserWarning: To output multiple subplots, the figure containing the passed axes is being cleared\n",
      "  df.hist(ax = ax)\n"
     ]
    },
    {
     "data": {
      "text/plain": [
       "array([[<AxesSubplot:title={'center':'Popularity'}>,\n",
       "        <AxesSubplot:title={'center':'danceability'}>,\n",
       "        <AxesSubplot:title={'center':'energy'}>,\n",
       "        <AxesSubplot:title={'center':'key'}>],\n",
       "       [<AxesSubplot:title={'center':'loudness'}>,\n",
       "        <AxesSubplot:title={'center':'mode'}>,\n",
       "        <AxesSubplot:title={'center':'speechiness'}>,\n",
       "        <AxesSubplot:title={'center':'acousticness'}>],\n",
       "       [<AxesSubplot:title={'center':'instrumentalness'}>,\n",
       "        <AxesSubplot:title={'center':'liveness'}>,\n",
       "        <AxesSubplot:title={'center':'valence'}>,\n",
       "        <AxesSubplot:title={'center':'tempo'}>],\n",
       "       [<AxesSubplot:title={'center':'duration_in min/ms'}>,\n",
       "        <AxesSubplot:title={'center':'time_signature'}>,\n",
       "        <AxesSubplot:title={'center':'Class'}>, <AxesSubplot:>]],\n",
       "      dtype=object)"
      ]
     },
     "execution_count": 10,
     "metadata": {},
     "output_type": "execute_result"
    },
    {
     "data": {
      "image/png": "[encoded data removed]",
      "text/plain": [
       "<Figure size 1080x720 with 16 Axes>"
      ]
     },
     "metadata": {
      "needs_background": "light"
     },
     "output_type": "display_data"
    }
   ],
   "source": [
    "fig = plt.figure(figsize = (15,10))\n",
    "ax = fig.gca()\n",
    "df.hist(ax = ax)"
   ]
  },
  {
   "cell_type": "markdown",
   "id": "74eac994",
   "metadata": {},
   "source": [
    "#### Distribution of the Class (Label)"
   ]
  },
  {
   "cell_type": "code",
   "execution_count": 11,
   "id": "3a40c294",
   "metadata": {},
   "outputs": [
    {
     "data": {
      "text/plain": [
       "<AxesSubplot:ylabel='Frequency'>"
      ]
     },
     "execution_count": 11,
     "metadata": {},
     "output_type": "execute_result"
    },
    {
     "data": {
      "image/png": "[encoded data removed]",
      "text/plain": [
       "<Figure size 432x288 with 1 Axes>"
      ]
     },
     "metadata": {
      "needs_background": "light"
     },
     "output_type": "display_data"
    }
   ],
   "source": [
    "df['Class'].plot.hist(bins=11)"
   ]
  },
  {
   "cell_type": "markdown",
   "id": "153c59e9",
   "metadata": {},
   "source": [
    "<br/>"
   ]
  },
  {
   "cell_type": "markdown",
   "id": "68a034a8",
   "metadata": {},
   "source": [
    "The count of the Popularity, key and instrumentalness != len of index, 17996, hence, shows that there are null values "
   ]
  },
  {
   "cell_type": "markdown",
   "id": "09b5a10c",
   "metadata": {},
   "source": [
    "Another issue encountered is the \"duration_in min/ms\" is not in a single format, hence need to change all the values either to ms or min"
   ]
  },
  {
   "cell_type": "markdown",
   "id": "38b6806e",
   "metadata": {},
   "source": [
    "Another issue encountered is the there is a data imbalance, hence will need to use SMOTE to balance the data"
   ]
  },
  {
   "cell_type": "markdown",
   "id": "fddf811c",
   "metadata": {},
   "source": [
    "<br/>"
   ]
  },
  {
   "cell_type": "markdown",
   "id": "d9d1db57",
   "metadata": {},
   "source": [
    "# Removing Duplicate"
   ]
  },
  {
   "cell_type": "code",
   "execution_count": 12,
   "id": "54db0a91",
   "metadata": {
    "scrolled": true
   },
   "outputs": [
    {
     "data": {
      "text/plain": [
       "17996"
      ]
     },
     "execution_count": 12,
     "metadata": {},
     "output_type": "execute_result"
    }
   ],
   "source": [
    "#Lead to no changes. Going to Check if the traits are duplicated\n",
    "df = df.drop_duplicates()\n",
    "len(df)"
   ]
  },
  {
   "cell_type": "code",
   "execution_count": 13,
   "id": "969093d2",
   "metadata": {},
   "outputs": [
    {
     "data": {
      "text/plain": [
       "['Popularity',\n",
       " 'danceability',\n",
       " 'energy',\n",
       " 'key',\n",
       " 'loudness',\n",
       " 'mode',\n",
       " 'speechiness',\n",
       " 'acousticness',\n",
       " 'instrumentalness',\n",
       " 'liveness',\n",
       " 'valence',\n",
       " 'tempo',\n",
       " 'duration_in min/ms',\n",
       " 'time_signature',\n",
       " 'Class']"
      ]
     },
     "execution_count": 13,
     "metadata": {},
     "output_type": "execute_result"
    }
   ],
   "source": [
    "df.columns.to_list()[2:]"
   ]
  },
  {
   "cell_type": "code",
   "execution_count": 14,
   "id": "2000f280",
   "metadata": {},
   "outputs": [
    {
     "data": {
      "text/plain": [
       "17955"
      ]
     },
     "execution_count": 14,
     "metadata": {},
     "output_type": "execute_result"
    }
   ],
   "source": [
    "# Led to abit of dropping, However, there are still some traits that are duplicates but on different classes.\n",
    "df = df.drop_duplicates(subset=df.columns.to_list()[2:])\n",
    "len(df)"
   ]
  },
  {
   "cell_type": "code",
   "execution_count": 15,
   "id": "a4c575d3",
   "metadata": {},
   "outputs": [
    {
     "data": {
      "text/plain": [
       "['Popularity',\n",
       " 'danceability',\n",
       " 'energy',\n",
       " 'key',\n",
       " 'loudness',\n",
       " 'mode',\n",
       " 'speechiness',\n",
       " 'acousticness',\n",
       " 'instrumentalness',\n",
       " 'liveness',\n",
       " 'valence',\n",
       " 'tempo',\n",
       " 'duration_in min/ms',\n",
       " 'time_signature']"
      ]
     },
     "execution_count": 15,
     "metadata": {},
     "output_type": "execute_result"
    }
   ],
   "source": [
    "df.columns.to_list()[2:-1]"
   ]
  },
  {
   "cell_type": "code",
   "execution_count": 16,
   "id": "1ade5d6b",
   "metadata": {},
   "outputs": [
    {
     "data": {
      "text/plain": [
       "16254"
      ]
     },
     "execution_count": 16,
     "metadata": {},
     "output_type": "execute_result"
    }
   ],
   "source": [
    "# Led to dropping all above mentioned traits that are duplicates. (Ingoring the class)\n",
    "df = df.drop_duplicates(subset=df.columns.to_list()[2:-1])\n",
    "len(df)"
   ]
  },
  {
   "cell_type": "markdown",
   "id": "8cdaab67",
   "metadata": {},
   "source": [
    "<br/><br/><br/><br/>"
   ]
  },
  {
   "cell_type": "markdown",
   "id": "eb06ad81",
   "metadata": {},
   "source": [
    "# Removing Unused Columns\n",
    "*Columns Affected are : Track Name"
   ]
  },
  {
   "cell_type": "code",
   "execution_count": 17,
   "id": "a7e5eb40",
   "metadata": {},
   "outputs": [],
   "source": [
    "df = df.drop(['Track Name'], axis=1)"
   ]
  },
  {
   "cell_type": "code",
   "execution_count": 18,
   "id": "d55f477e",
   "metadata": {
    "scrolled": true
   },
   "outputs": [
    {
     "data": {
      "text/plain": [
       "16254"
      ]
     },
     "execution_count": 18,
     "metadata": {},
     "output_type": "execute_result"
    }
   ],
   "source": [
    "len(df.index)"
   ]
  },
  {
   "cell_type": "markdown",
   "id": "e71a4eb8",
   "metadata": {},
   "source": [
    "<br/><br/><br/><br/>"
   ]
  },
  {
   "cell_type": "markdown",
   "id": "25c55f7e",
   "metadata": {},
   "source": [
    "# Fixing \"duration_in min/ms\" Inconsistency\n",
    "</br></br></br>"
   ]
  },
  {
   "cell_type": "code",
   "execution_count": 19,
   "id": "e1830ed6",
   "metadata": {},
   "outputs": [],
   "source": [
    "df = df.rename({'duration_in min/ms':'duration_mins'}, axis='columns')"
   ]
  },
  {
   "cell_type": "code",
   "execution_count": 20,
   "id": "59a38afc",
   "metadata": {},
   "outputs": [],
   "source": [
    "for index, row in df.iterrows():\n",
    "    if row['duration_mins'] > 100:\n",
    "        df.at[index, 'duration_mins'] = row['duration_mins']/60000"
   ]
  },
  {
   "cell_type": "code",
   "execution_count": 21,
   "id": "324fa4db",
   "metadata": {},
   "outputs": [
    {
     "data": {
      "text/html": [
       "<div>\n",
       "<style scoped>\n",
       "    .dataframe tbody tr th:only-of-type {\n",
       "        vertical-align: middle;\n",
       "    }\n",
       "\n",
       "    .dataframe tbody tr th {\n",
       "        vertical-align: top;\n",
       "    }\n",
       "\n",
       "    .dataframe thead th {\n",
       "        text-align: right;\n",
       "    }\n",
       "</style>\n",
       "<table border=\"1\" class=\"dataframe\">\n",
       "  <thead>\n",
       "    <tr style=\"text-align: right;\">\n",
       "      <th></th>\n",
       "      <th>Artist Name</th>\n",
       "      <th>Popularity</th>\n",
       "      <th>danceability</th>\n",
       "      <th>energy</th>\n",
       "      <th>key</th>\n",
       "      <th>loudness</th>\n",
       "      <th>mode</th>\n",
       "      <th>speechiness</th>\n",
       "      <th>acousticness</th>\n",
       "      <th>instrumentalness</th>\n",
       "      <th>liveness</th>\n",
       "      <th>valence</th>\n",
       "      <th>tempo</th>\n",
       "      <th>duration_mins</th>\n",
       "      <th>time_signature</th>\n",
       "      <th>Class</th>\n",
       "    </tr>\n",
       "  </thead>\n",
       "  <tbody>\n",
       "    <tr>\n",
       "      <th>0</th>\n",
       "      <td>Bruno Mars</td>\n",
       "      <td>60.0</td>\n",
       "      <td>0.854</td>\n",
       "      <td>0.564</td>\n",
       "      <td>1.0</td>\n",
       "      <td>-4.964</td>\n",
       "      <td>1</td>\n",
       "      <td>0.0485</td>\n",
       "      <td>0.017100</td>\n",
       "      <td>NaN</td>\n",
       "      <td>0.0849</td>\n",
       "      <td>0.8990</td>\n",
       "      <td>134.071</td>\n",
       "      <td>3.909933</td>\n",
       "      <td>4</td>\n",
       "      <td>5</td>\n",
       "    </tr>\n",
       "    <tr>\n",
       "      <th>1</th>\n",
       "      <td>Boston</td>\n",
       "      <td>54.0</td>\n",
       "      <td>0.382</td>\n",
       "      <td>0.814</td>\n",
       "      <td>3.0</td>\n",
       "      <td>-7.230</td>\n",
       "      <td>1</td>\n",
       "      <td>0.0406</td>\n",
       "      <td>0.001100</td>\n",
       "      <td>0.004010</td>\n",
       "      <td>0.1010</td>\n",
       "      <td>0.5690</td>\n",
       "      <td>116.454</td>\n",
       "      <td>4.195550</td>\n",
       "      <td>4</td>\n",
       "      <td>10</td>\n",
       "    </tr>\n",
       "    <tr>\n",
       "      <th>2</th>\n",
       "      <td>The Raincoats</td>\n",
       "      <td>35.0</td>\n",
       "      <td>0.434</td>\n",
       "      <td>0.614</td>\n",
       "      <td>6.0</td>\n",
       "      <td>-8.334</td>\n",
       "      <td>1</td>\n",
       "      <td>0.0525</td>\n",
       "      <td>0.486000</td>\n",
       "      <td>0.000196</td>\n",
       "      <td>0.3940</td>\n",
       "      <td>0.7870</td>\n",
       "      <td>147.681</td>\n",
       "      <td>1.827783</td>\n",
       "      <td>4</td>\n",
       "      <td>6</td>\n",
       "    </tr>\n",
       "    <tr>\n",
       "      <th>3</th>\n",
       "      <td>Deno</td>\n",
       "      <td>66.0</td>\n",
       "      <td>0.853</td>\n",
       "      <td>0.597</td>\n",
       "      <td>10.0</td>\n",
       "      <td>-6.528</td>\n",
       "      <td>0</td>\n",
       "      <td>0.0555</td>\n",
       "      <td>0.021200</td>\n",
       "      <td>NaN</td>\n",
       "      <td>0.1220</td>\n",
       "      <td>0.5690</td>\n",
       "      <td>107.033</td>\n",
       "      <td>2.899467</td>\n",
       "      <td>4</td>\n",
       "      <td>5</td>\n",
       "    </tr>\n",
       "    <tr>\n",
       "      <th>4</th>\n",
       "      <td>Red Hot Chili Peppers</td>\n",
       "      <td>53.0</td>\n",
       "      <td>0.167</td>\n",
       "      <td>0.975</td>\n",
       "      <td>2.0</td>\n",
       "      <td>-4.279</td>\n",
       "      <td>1</td>\n",
       "      <td>0.2160</td>\n",
       "      <td>0.000169</td>\n",
       "      <td>0.016100</td>\n",
       "      <td>0.1720</td>\n",
       "      <td>0.0918</td>\n",
       "      <td>199.060</td>\n",
       "      <td>3.832667</td>\n",
       "      <td>4</td>\n",
       "      <td>10</td>\n",
       "    </tr>\n",
       "    <tr>\n",
       "      <th>...</th>\n",
       "      <td>...</td>\n",
       "      <td>...</td>\n",
       "      <td>...</td>\n",
       "      <td>...</td>\n",
       "      <td>...</td>\n",
       "      <td>...</td>\n",
       "      <td>...</td>\n",
       "      <td>...</td>\n",
       "      <td>...</td>\n",
       "      <td>...</td>\n",
       "      <td>...</td>\n",
       "      <td>...</td>\n",
       "      <td>...</td>\n",
       "      <td>...</td>\n",
       "      <td>...</td>\n",
       "      <td>...</td>\n",
       "    </tr>\n",
       "    <tr>\n",
       "      <th>17991</th>\n",
       "      <td>Green-House</td>\n",
       "      <td>35.0</td>\n",
       "      <td>0.166</td>\n",
       "      <td>0.109</td>\n",
       "      <td>7.0</td>\n",
       "      <td>-17.100</td>\n",
       "      <td>0</td>\n",
       "      <td>0.0413</td>\n",
       "      <td>0.993000</td>\n",
       "      <td>0.824000</td>\n",
       "      <td>0.0984</td>\n",
       "      <td>0.1770</td>\n",
       "      <td>171.587</td>\n",
       "      <td>3.224167</td>\n",
       "      <td>3</td>\n",
       "      <td>6</td>\n",
       "    </tr>\n",
       "    <tr>\n",
       "      <th>17992</th>\n",
       "      <td>Micatone</td>\n",
       "      <td>27.0</td>\n",
       "      <td>0.638</td>\n",
       "      <td>0.223</td>\n",
       "      <td>11.0</td>\n",
       "      <td>-10.174</td>\n",
       "      <td>0</td>\n",
       "      <td>0.0329</td>\n",
       "      <td>0.858000</td>\n",
       "      <td>0.000016</td>\n",
       "      <td>0.0705</td>\n",
       "      <td>0.3350</td>\n",
       "      <td>73.016</td>\n",
       "      <td>4.284450</td>\n",
       "      <td>4</td>\n",
       "      <td>2</td>\n",
       "    </tr>\n",
       "    <tr>\n",
       "      <th>17993</th>\n",
       "      <td>Smash Hit Combo</td>\n",
       "      <td>34.0</td>\n",
       "      <td>0.558</td>\n",
       "      <td>0.981</td>\n",
       "      <td>4.0</td>\n",
       "      <td>-4.683</td>\n",
       "      <td>0</td>\n",
       "      <td>0.0712</td>\n",
       "      <td>0.000030</td>\n",
       "      <td>0.000136</td>\n",
       "      <td>0.6660</td>\n",
       "      <td>0.2620</td>\n",
       "      <td>105.000</td>\n",
       "      <td>3.603700</td>\n",
       "      <td>4</td>\n",
       "      <td>8</td>\n",
       "    </tr>\n",
       "    <tr>\n",
       "      <th>17994</th>\n",
       "      <td>Beherit</td>\n",
       "      <td>29.0</td>\n",
       "      <td>0.215</td>\n",
       "      <td>0.805</td>\n",
       "      <td>6.0</td>\n",
       "      <td>-12.757</td>\n",
       "      <td>0</td>\n",
       "      <td>0.1340</td>\n",
       "      <td>0.001290</td>\n",
       "      <td>0.916000</td>\n",
       "      <td>0.2560</td>\n",
       "      <td>0.3550</td>\n",
       "      <td>131.363</td>\n",
       "      <td>3.661550</td>\n",
       "      <td>4</td>\n",
       "      <td>8</td>\n",
       "    </tr>\n",
       "    <tr>\n",
       "      <th>17995</th>\n",
       "      <td>The Raconteurs</td>\n",
       "      <td>43.0</td>\n",
       "      <td>0.400</td>\n",
       "      <td>0.853</td>\n",
       "      <td>4.0</td>\n",
       "      <td>-5.320</td>\n",
       "      <td>0</td>\n",
       "      <td>0.0591</td>\n",
       "      <td>0.006040</td>\n",
       "      <td>0.212000</td>\n",
       "      <td>0.3340</td>\n",
       "      <td>0.3770</td>\n",
       "      <td>138.102</td>\n",
       "      <td>3.037117</td>\n",
       "      <td>4</td>\n",
       "      <td>10</td>\n",
       "    </tr>\n",
       "  </tbody>\n",
       "</table>\n",
       "<p>16254 rows × 16 columns</p>\n",
       "</div>"
      ],
      "text/plain": [
       "                 Artist Name  Popularity  danceability  energy   key  \\\n",
       "0                 Bruno Mars        60.0         0.854   0.564   1.0   \n",
       "1                     Boston        54.0         0.382   0.814   3.0   \n",
       "2              The Raincoats        35.0         0.434   0.614   6.0   \n",
       "3                       Deno        66.0         0.853   0.597  10.0   \n",
       "4      Red Hot Chili Peppers        53.0         0.167   0.975   2.0   \n",
       "...                      ...         ...           ...     ...   ...   \n",
       "17991            Green-House        35.0         0.166   0.109   7.0   \n",
       "17992               Micatone        27.0         0.638   0.223  11.0   \n",
       "17993        Smash Hit Combo        34.0         0.558   0.981   4.0   \n",
       "17994                Beherit        29.0         0.215   0.805   6.0   \n",
       "17995         The Raconteurs        43.0         0.400   0.853   4.0   \n",
       "\n",
       "       loudness  mode  speechiness  acousticness  instrumentalness  liveness  \\\n",
       "0        -4.964     1       0.0485      0.017100               NaN    0.0849   \n",
       "1        -7.230     1       0.0406      0.001100          0.004010    0.1010   \n",
       "2        -8.334     1       0.0525      0.486000          0.000196    0.3940   \n",
       "3        -6.528     0       0.0555      0.021200               NaN    0.1220   \n",
       "4        -4.279     1       0.2160      0.000169          0.016100    0.1720   \n",
       "...         ...   ...          ...           ...               ...       ...   \n",
       "17991   -17.100     0       0.0413      0.993000          0.824000    0.0984   \n",
       "17992   -10.174     0       0.0329      0.858000          0.000016    0.0705   \n",
       "17993    -4.683     0       0.0712      0.000030          0.000136    0.6660   \n",
       "17994   -12.757     0       0.1340      0.001290          0.916000    0.2560   \n",
       "17995    -5.320     0       0.0591      0.006040          0.212000    0.3340   \n",
       "\n",
       "       valence    tempo  duration_mins  time_signature  Class  \n",
       "0       0.8990  134.071       3.909933               4      5  \n",
       "1       0.5690  116.454       4.195550               4     10  \n",
       "2       0.7870  147.681       1.827783               4      6  \n",
       "3       0.5690  107.033       2.899467               4      5  \n",
       "4       0.0918  199.060       3.832667               4     10  \n",
       "...        ...      ...            ...             ...    ...  \n",
       "17991   0.1770  171.587       3.224167               3      6  \n",
       "17992   0.3350   73.016       4.284450               4      2  \n",
       "17993   0.2620  105.000       3.603700               4      8  \n",
       "17994   0.3550  131.363       3.661550               4      8  \n",
       "17995   0.3770  138.102       3.037117               4     10  \n",
       "\n",
       "[16254 rows x 16 columns]"
      ]
     },
     "execution_count": 21,
     "metadata": {},
     "output_type": "execute_result"
    }
   ],
   "source": [
    "df"
   ]
  },
  {
   "cell_type": "markdown",
   "id": "aeb11856",
   "metadata": {},
   "source": [
    "<br/><br/><br/><br/>"
   ]
  },
  {
   "cell_type": "markdown",
   "id": "92ecf8c4",
   "metadata": {},
   "source": [
    "# Transforming Artist Name to Numerical Value\n",
    "</br></br></br>"
   ]
  },
  {
   "cell_type": "code",
   "execution_count": 22,
   "id": "8c94ab6d",
   "metadata": {},
   "outputs": [],
   "source": [
    "from sklearn.preprocessing import LabelEncoder"
   ]
  },
  {
   "cell_type": "code",
   "execution_count": 23,
   "id": "1365e36a",
   "metadata": {},
   "outputs": [],
   "source": [
    "encoder = LabelEncoder()"
   ]
  },
  {
   "cell_type": "code",
   "execution_count": 24,
   "id": "8e277271",
   "metadata": {},
   "outputs": [
    {
     "data": {
      "text/plain": [
       "0"
      ]
     },
     "execution_count": 24,
     "metadata": {},
     "output_type": "execute_result"
    }
   ],
   "source": [
    "df['Artist Name'].isna().sum()"
   ]
  },
  {
   "cell_type": "code",
   "execution_count": 25,
   "id": "1e4c2574",
   "metadata": {},
   "outputs": [],
   "source": [
    "df['Artist Name'] = encoder.fit_transform(df['Artist Name'])"
   ]
  },
  {
   "cell_type": "code",
   "execution_count": 26,
   "id": "1ae87224",
   "metadata": {},
   "outputs": [
    {
     "data": {
      "text/plain": [
       "array(['$NOT', '$uicideboy$', \"'68\", ..., '◊û◊ô◊†◊ï◊° ◊ê◊§◊°',\n",
       "       '◊û◊õ◊ú◊ï◊£', '◊†◊ê◊ì◊î'], dtype=object)"
      ]
     },
     "execution_count": 26,
     "metadata": {},
     "output_type": "execute_result"
    }
   ],
   "source": [
    "encoder.classes_"
   ]
  },
  {
   "cell_type": "code",
   "execution_count": 27,
   "id": "4bc6d1be",
   "metadata": {},
   "outputs": [
    {
     "data": {
      "text/html": [
       "<div>\n",
       "<style scoped>\n",
       "    .dataframe tbody tr th:only-of-type {\n",
       "        vertical-align: middle;\n",
       "    }\n",
       "\n",
       "    .dataframe tbody tr th {\n",
       "        vertical-align: top;\n",
       "    }\n",
       "\n",
       "    .dataframe thead th {\n",
       "        text-align: right;\n",
       "    }\n",
       "</style>\n",
       "<table border=\"1\" class=\"dataframe\">\n",
       "  <thead>\n",
       "    <tr style=\"text-align: right;\">\n",
       "      <th></th>\n",
       "      <th>Artist Name</th>\n",
       "      <th>Popularity</th>\n",
       "      <th>danceability</th>\n",
       "      <th>energy</th>\n",
       "      <th>key</th>\n",
       "      <th>loudness</th>\n",
       "      <th>mode</th>\n",
       "      <th>speechiness</th>\n",
       "      <th>acousticness</th>\n",
       "      <th>instrumentalness</th>\n",
       "      <th>liveness</th>\n",
       "      <th>valence</th>\n",
       "      <th>tempo</th>\n",
       "      <th>duration_mins</th>\n",
       "      <th>time_signature</th>\n",
       "      <th>Class</th>\n",
       "    </tr>\n",
       "  </thead>\n",
       "  <tbody>\n",
       "    <tr>\n",
       "      <th>0</th>\n",
       "      <td>1182</td>\n",
       "      <td>60.0</td>\n",
       "      <td>0.854</td>\n",
       "      <td>0.564</td>\n",
       "      <td>1.0</td>\n",
       "      <td>-4.964</td>\n",
       "      <td>1</td>\n",
       "      <td>0.0485</td>\n",
       "      <td>0.017100</td>\n",
       "      <td>NaN</td>\n",
       "      <td>0.0849</td>\n",
       "      <td>0.8990</td>\n",
       "      <td>134.071</td>\n",
       "      <td>3.909933</td>\n",
       "      <td>4</td>\n",
       "      <td>5</td>\n",
       "    </tr>\n",
       "    <tr>\n",
       "      <th>1</th>\n",
       "      <td>1092</td>\n",
       "      <td>54.0</td>\n",
       "      <td>0.382</td>\n",
       "      <td>0.814</td>\n",
       "      <td>3.0</td>\n",
       "      <td>-7.230</td>\n",
       "      <td>1</td>\n",
       "      <td>0.0406</td>\n",
       "      <td>0.001100</td>\n",
       "      <td>0.004010</td>\n",
       "      <td>0.1010</td>\n",
       "      <td>0.5690</td>\n",
       "      <td>116.454</td>\n",
       "      <td>4.195550</td>\n",
       "      <td>4</td>\n",
       "      <td>10</td>\n",
       "    </tr>\n",
       "    <tr>\n",
       "      <th>2</th>\n",
       "      <td>7899</td>\n",
       "      <td>35.0</td>\n",
       "      <td>0.434</td>\n",
       "      <td>0.614</td>\n",
       "      <td>6.0</td>\n",
       "      <td>-8.334</td>\n",
       "      <td>1</td>\n",
       "      <td>0.0525</td>\n",
       "      <td>0.486000</td>\n",
       "      <td>0.000196</td>\n",
       "      <td>0.3940</td>\n",
       "      <td>0.7870</td>\n",
       "      <td>147.681</td>\n",
       "      <td>1.827783</td>\n",
       "      <td>4</td>\n",
       "      <td>6</td>\n",
       "    </tr>\n",
       "    <tr>\n",
       "      <th>3</th>\n",
       "      <td>1987</td>\n",
       "      <td>66.0</td>\n",
       "      <td>0.853</td>\n",
       "      <td>0.597</td>\n",
       "      <td>10.0</td>\n",
       "      <td>-6.528</td>\n",
       "      <td>0</td>\n",
       "      <td>0.0555</td>\n",
       "      <td>0.021200</td>\n",
       "      <td>NaN</td>\n",
       "      <td>0.1220</td>\n",
       "      <td>0.5690</td>\n",
       "      <td>107.033</td>\n",
       "      <td>2.899467</td>\n",
       "      <td>4</td>\n",
       "      <td>5</td>\n",
       "    </tr>\n",
       "    <tr>\n",
       "      <th>4</th>\n",
       "      <td>6283</td>\n",
       "      <td>53.0</td>\n",
       "      <td>0.167</td>\n",
       "      <td>0.975</td>\n",
       "      <td>2.0</td>\n",
       "      <td>-4.279</td>\n",
       "      <td>1</td>\n",
       "      <td>0.2160</td>\n",
       "      <td>0.000169</td>\n",
       "      <td>0.016100</td>\n",
       "      <td>0.1720</td>\n",
       "      <td>0.0918</td>\n",
       "      <td>199.060</td>\n",
       "      <td>3.832667</td>\n",
       "      <td>4</td>\n",
       "      <td>10</td>\n",
       "    </tr>\n",
       "    <tr>\n",
       "      <th>...</th>\n",
       "      <td>...</td>\n",
       "      <td>...</td>\n",
       "      <td>...</td>\n",
       "      <td>...</td>\n",
       "      <td>...</td>\n",
       "      <td>...</td>\n",
       "      <td>...</td>\n",
       "      <td>...</td>\n",
       "      <td>...</td>\n",
       "      <td>...</td>\n",
       "      <td>...</td>\n",
       "      <td>...</td>\n",
       "      <td>...</td>\n",
       "      <td>...</td>\n",
       "      <td>...</td>\n",
       "      <td>...</td>\n",
       "    </tr>\n",
       "    <tr>\n",
       "      <th>17991</th>\n",
       "      <td>3042</td>\n",
       "      <td>35.0</td>\n",
       "      <td>0.166</td>\n",
       "      <td>0.109</td>\n",
       "      <td>7.0</td>\n",
       "      <td>-17.100</td>\n",
       "      <td>0</td>\n",
       "      <td>0.0413</td>\n",
       "      <td>0.993000</td>\n",
       "      <td>0.824000</td>\n",
       "      <td>0.0984</td>\n",
       "      <td>0.1770</td>\n",
       "      <td>171.587</td>\n",
       "      <td>3.224167</td>\n",
       "      <td>3</td>\n",
       "      <td>6</td>\n",
       "    </tr>\n",
       "    <tr>\n",
       "      <th>17992</th>\n",
       "      <td>5122</td>\n",
       "      <td>27.0</td>\n",
       "      <td>0.638</td>\n",
       "      <td>0.223</td>\n",
       "      <td>11.0</td>\n",
       "      <td>-10.174</td>\n",
       "      <td>0</td>\n",
       "      <td>0.0329</td>\n",
       "      <td>0.858000</td>\n",
       "      <td>0.000016</td>\n",
       "      <td>0.0705</td>\n",
       "      <td>0.3350</td>\n",
       "      <td>73.016</td>\n",
       "      <td>4.284450</td>\n",
       "      <td>4</td>\n",
       "      <td>2</td>\n",
       "    </tr>\n",
       "    <tr>\n",
       "      <th>17993</th>\n",
       "      <td>7032</td>\n",
       "      <td>34.0</td>\n",
       "      <td>0.558</td>\n",
       "      <td>0.981</td>\n",
       "      <td>4.0</td>\n",
       "      <td>-4.683</td>\n",
       "      <td>0</td>\n",
       "      <td>0.0712</td>\n",
       "      <td>0.000030</td>\n",
       "      <td>0.000136</td>\n",
       "      <td>0.6660</td>\n",
       "      <td>0.2620</td>\n",
       "      <td>105.000</td>\n",
       "      <td>3.603700</td>\n",
       "      <td>4</td>\n",
       "      <td>8</td>\n",
       "    </tr>\n",
       "    <tr>\n",
       "      <th>17994</th>\n",
       "      <td>797</td>\n",
       "      <td>29.0</td>\n",
       "      <td>0.215</td>\n",
       "      <td>0.805</td>\n",
       "      <td>6.0</td>\n",
       "      <td>-12.757</td>\n",
       "      <td>0</td>\n",
       "      <td>0.1340</td>\n",
       "      <td>0.001290</td>\n",
       "      <td>0.916000</td>\n",
       "      <td>0.2560</td>\n",
       "      <td>0.3550</td>\n",
       "      <td>131.363</td>\n",
       "      <td>3.661550</td>\n",
       "      <td>4</td>\n",
       "      <td>8</td>\n",
       "    </tr>\n",
       "    <tr>\n",
       "      <th>17995</th>\n",
       "      <td>7898</td>\n",
       "      <td>43.0</td>\n",
       "      <td>0.400</td>\n",
       "      <td>0.853</td>\n",
       "      <td>4.0</td>\n",
       "      <td>-5.320</td>\n",
       "      <td>0</td>\n",
       "      <td>0.0591</td>\n",
       "      <td>0.006040</td>\n",
       "      <td>0.212000</td>\n",
       "      <td>0.3340</td>\n",
       "      <td>0.3770</td>\n",
       "      <td>138.102</td>\n",
       "      <td>3.037117</td>\n",
       "      <td>4</td>\n",
       "      <td>10</td>\n",
       "    </tr>\n",
       "  </tbody>\n",
       "</table>\n",
       "<p>16254 rows × 16 columns</p>\n",
       "</div>"
      ],
      "text/plain": [
       "       Artist Name  Popularity  danceability  energy   key  loudness  mode  \\\n",
       "0             1182        60.0         0.854   0.564   1.0    -4.964     1   \n",
       "1             1092        54.0         0.382   0.814   3.0    -7.230     1   \n",
       "2             7899        35.0         0.434   0.614   6.0    -8.334     1   \n",
       "3             1987        66.0         0.853   0.597  10.0    -6.528     0   \n",
       "4             6283        53.0         0.167   0.975   2.0    -4.279     1   \n",
       "...            ...         ...           ...     ...   ...       ...   ...   \n",
       "17991         3042        35.0         0.166   0.109   7.0   -17.100     0   \n",
       "17992         5122        27.0         0.638   0.223  11.0   -10.174     0   \n",
       "17993         7032        34.0         0.558   0.981   4.0    -4.683     0   \n",
       "17994          797        29.0         0.215   0.805   6.0   -12.757     0   \n",
       "17995         7898        43.0         0.400   0.853   4.0    -5.320     0   \n",
       "\n",
       "       speechiness  acousticness  instrumentalness  liveness  valence  \\\n",
       "0           0.0485      0.017100               NaN    0.0849   0.8990   \n",
       "1           0.0406      0.001100          0.004010    0.1010   0.5690   \n",
       "2           0.0525      0.486000          0.000196    0.3940   0.7870   \n",
       "3           0.0555      0.021200               NaN    0.1220   0.5690   \n",
       "4           0.2160      0.000169          0.016100    0.1720   0.0918   \n",
       "...            ...           ...               ...       ...      ...   \n",
       "17991       0.0413      0.993000          0.824000    0.0984   0.1770   \n",
       "17992       0.0329      0.858000          0.000016    0.0705   0.3350   \n",
       "17993       0.0712      0.000030          0.000136    0.6660   0.2620   \n",
       "17994       0.1340      0.001290          0.916000    0.2560   0.3550   \n",
       "17995       0.0591      0.006040          0.212000    0.3340   0.3770   \n",
       "\n",
       "         tempo  duration_mins  time_signature  Class  \n",
       "0      134.071       3.909933               4      5  \n",
       "1      116.454       4.195550               4     10  \n",
       "2      147.681       1.827783               4      6  \n",
       "3      107.033       2.899467               4      5  \n",
       "4      199.060       3.832667               4     10  \n",
       "...        ...            ...             ...    ...  \n",
       "17991  171.587       3.224167               3      6  \n",
       "17992   73.016       4.284450               4      2  \n",
       "17993  105.000       3.603700               4      8  \n",
       "17994  131.363       3.661550               4      8  \n",
       "17995  138.102       3.037117               4     10  \n",
       "\n",
       "[16254 rows x 16 columns]"
      ]
     },
     "execution_count": 27,
     "metadata": {},
     "output_type": "execute_result"
    }
   ],
   "source": [
    "df"
   ]
  },
  {
   "cell_type": "markdown",
   "id": "effeaccd",
   "metadata": {},
   "source": [
    "#### Correlation Values of Feature to Class (label) after Encoding Artist Name"
   ]
  },
  {
   "cell_type": "code",
   "execution_count": 28,
   "id": "15883b2e",
   "metadata": {},
   "outputs": [
    {
     "data": {
      "image/png": "[encoded data removed]",
      "text/plain": [
       "<Figure size 1152x432 with 2 Axes>"
      ]
     },
     "metadata": {
      "needs_background": "light"
     },
     "output_type": "display_data"
    }
   ],
   "source": [
    "plt.figure(figsize=(16, 6))\n",
    "heatmap = sns.heatmap(df.corr(), vmin=-1, vmax=1, annot=True, cmap='BrBG')\n",
    "heatmap.set_title('Correlation Heatmap', fontdict={'fontsize':12}, pad=12);"
   ]
  },
  {
   "cell_type": "markdown",
   "id": "e2a504a9",
   "metadata": {},
   "source": [
    "Dropping Artist Name as it has very little correlation to the \"class\" label"
   ]
  },
  {
   "cell_type": "code",
   "execution_count": 29,
   "id": "d499bf5c",
   "metadata": {},
   "outputs": [],
   "source": [
    "df = df.drop(['Artist Name'], axis=1)"
   ]
  },
  {
   "cell_type": "markdown",
   "id": "df87df9b",
   "metadata": {},
   "source": [
    "<br/><br/><br/><br/>"
   ]
  },
  {
   "cell_type": "markdown",
   "id": "c3912d5f",
   "metadata": {},
   "source": [
    "# Using KNN Imputation for missing values\n",
    "\n",
    "*Columns Affected are : Popularity, key, instrumentalness*"
   ]
  },
  {
   "cell_type": "code",
   "execution_count": 30,
   "id": "7fc85fb9",
   "metadata": {},
   "outputs": [],
   "source": [
    "from sklearn.impute import KNNImputer"
   ]
  },
  {
   "cell_type": "code",
   "execution_count": 31,
   "id": "1200be1f",
   "metadata": {},
   "outputs": [],
   "source": [
    "knn_impute = KNNImputer(n_neighbors=134, copy=False)"
   ]
  },
  {
   "cell_type": "code",
   "execution_count": 32,
   "id": "f152b0f3",
   "metadata": {},
   "outputs": [],
   "source": [
    "df = pd.DataFrame(knn_impute.fit_transform(df), columns=df.columns.values)"
   ]
  },
  {
   "cell_type": "code",
   "execution_count": 33,
   "id": "29386197",
   "metadata": {
    "scrolled": true
   },
   "outputs": [
    {
     "data": {
      "text/html": [
       "<div>\n",
       "<style scoped>\n",
       "    .dataframe tbody tr th:only-of-type {\n",
       "        vertical-align: middle;\n",
       "    }\n",
       "\n",
       "    .dataframe tbody tr th {\n",
       "        vertical-align: top;\n",
       "    }\n",
       "\n",
       "    .dataframe thead th {\n",
       "        text-align: right;\n",
       "    }\n",
       "</style>\n",
       "<table border=\"1\" class=\"dataframe\">\n",
       "  <thead>\n",
       "    <tr style=\"text-align: right;\">\n",
       "      <th></th>\n",
       "      <th>Popularity</th>\n",
       "      <th>danceability</th>\n",
       "      <th>energy</th>\n",
       "      <th>key</th>\n",
       "      <th>loudness</th>\n",
       "      <th>mode</th>\n",
       "      <th>speechiness</th>\n",
       "      <th>acousticness</th>\n",
       "      <th>instrumentalness</th>\n",
       "      <th>liveness</th>\n",
       "      <th>valence</th>\n",
       "      <th>tempo</th>\n",
       "      <th>duration_mins</th>\n",
       "      <th>time_signature</th>\n",
       "      <th>Class</th>\n",
       "    </tr>\n",
       "  </thead>\n",
       "  <tbody>\n",
       "    <tr>\n",
       "      <th>0</th>\n",
       "      <td>60.0</td>\n",
       "      <td>0.854</td>\n",
       "      <td>0.564</td>\n",
       "      <td>1.0</td>\n",
       "      <td>-4.964</td>\n",
       "      <td>1.0</td>\n",
       "      <td>0.0485</td>\n",
       "      <td>0.017100</td>\n",
       "      <td>0.080992</td>\n",
       "      <td>0.0849</td>\n",
       "      <td>0.8990</td>\n",
       "      <td>134.071</td>\n",
       "      <td>3.909933</td>\n",
       "      <td>4.0</td>\n",
       "      <td>5.0</td>\n",
       "    </tr>\n",
       "    <tr>\n",
       "      <th>1</th>\n",
       "      <td>54.0</td>\n",
       "      <td>0.382</td>\n",
       "      <td>0.814</td>\n",
       "      <td>3.0</td>\n",
       "      <td>-7.230</td>\n",
       "      <td>1.0</td>\n",
       "      <td>0.0406</td>\n",
       "      <td>0.001100</td>\n",
       "      <td>0.004010</td>\n",
       "      <td>0.1010</td>\n",
       "      <td>0.5690</td>\n",
       "      <td>116.454</td>\n",
       "      <td>4.195550</td>\n",
       "      <td>4.0</td>\n",
       "      <td>10.0</td>\n",
       "    </tr>\n",
       "    <tr>\n",
       "      <th>2</th>\n",
       "      <td>35.0</td>\n",
       "      <td>0.434</td>\n",
       "      <td>0.614</td>\n",
       "      <td>6.0</td>\n",
       "      <td>-8.334</td>\n",
       "      <td>1.0</td>\n",
       "      <td>0.0525</td>\n",
       "      <td>0.486000</td>\n",
       "      <td>0.000196</td>\n",
       "      <td>0.3940</td>\n",
       "      <td>0.7870</td>\n",
       "      <td>147.681</td>\n",
       "      <td>1.827783</td>\n",
       "      <td>4.0</td>\n",
       "      <td>6.0</td>\n",
       "    </tr>\n",
       "    <tr>\n",
       "      <th>3</th>\n",
       "      <td>66.0</td>\n",
       "      <td>0.853</td>\n",
       "      <td>0.597</td>\n",
       "      <td>10.0</td>\n",
       "      <td>-6.528</td>\n",
       "      <td>0.0</td>\n",
       "      <td>0.0555</td>\n",
       "      <td>0.021200</td>\n",
       "      <td>0.070187</td>\n",
       "      <td>0.1220</td>\n",
       "      <td>0.5690</td>\n",
       "      <td>107.033</td>\n",
       "      <td>2.899467</td>\n",
       "      <td>4.0</td>\n",
       "      <td>5.0</td>\n",
       "    </tr>\n",
       "    <tr>\n",
       "      <th>4</th>\n",
       "      <td>53.0</td>\n",
       "      <td>0.167</td>\n",
       "      <td>0.975</td>\n",
       "      <td>2.0</td>\n",
       "      <td>-4.279</td>\n",
       "      <td>1.0</td>\n",
       "      <td>0.2160</td>\n",
       "      <td>0.000169</td>\n",
       "      <td>0.016100</td>\n",
       "      <td>0.1720</td>\n",
       "      <td>0.0918</td>\n",
       "      <td>199.060</td>\n",
       "      <td>3.832667</td>\n",
       "      <td>4.0</td>\n",
       "      <td>10.0</td>\n",
       "    </tr>\n",
       "    <tr>\n",
       "      <th>...</th>\n",
       "      <td>...</td>\n",
       "      <td>...</td>\n",
       "      <td>...</td>\n",
       "      <td>...</td>\n",
       "      <td>...</td>\n",
       "      <td>...</td>\n",
       "      <td>...</td>\n",
       "      <td>...</td>\n",
       "      <td>...</td>\n",
       "      <td>...</td>\n",
       "      <td>...</td>\n",
       "      <td>...</td>\n",
       "      <td>...</td>\n",
       "      <td>...</td>\n",
       "      <td>...</td>\n",
       "    </tr>\n",
       "    <tr>\n",
       "      <th>16249</th>\n",
       "      <td>35.0</td>\n",
       "      <td>0.166</td>\n",
       "      <td>0.109</td>\n",
       "      <td>7.0</td>\n",
       "      <td>-17.100</td>\n",
       "      <td>0.0</td>\n",
       "      <td>0.0413</td>\n",
       "      <td>0.993000</td>\n",
       "      <td>0.824000</td>\n",
       "      <td>0.0984</td>\n",
       "      <td>0.1770</td>\n",
       "      <td>171.587</td>\n",
       "      <td>3.224167</td>\n",
       "      <td>3.0</td>\n",
       "      <td>6.0</td>\n",
       "    </tr>\n",
       "    <tr>\n",
       "      <th>16250</th>\n",
       "      <td>27.0</td>\n",
       "      <td>0.638</td>\n",
       "      <td>0.223</td>\n",
       "      <td>11.0</td>\n",
       "      <td>-10.174</td>\n",
       "      <td>0.0</td>\n",
       "      <td>0.0329</td>\n",
       "      <td>0.858000</td>\n",
       "      <td>0.000016</td>\n",
       "      <td>0.0705</td>\n",
       "      <td>0.3350</td>\n",
       "      <td>73.016</td>\n",
       "      <td>4.284450</td>\n",
       "      <td>4.0</td>\n",
       "      <td>2.0</td>\n",
       "    </tr>\n",
       "    <tr>\n",
       "      <th>16251</th>\n",
       "      <td>34.0</td>\n",
       "      <td>0.558</td>\n",
       "      <td>0.981</td>\n",
       "      <td>4.0</td>\n",
       "      <td>-4.683</td>\n",
       "      <td>0.0</td>\n",
       "      <td>0.0712</td>\n",
       "      <td>0.000030</td>\n",
       "      <td>0.000136</td>\n",
       "      <td>0.6660</td>\n",
       "      <td>0.2620</td>\n",
       "      <td>105.000</td>\n",
       "      <td>3.603700</td>\n",
       "      <td>4.0</td>\n",
       "      <td>8.0</td>\n",
       "    </tr>\n",
       "    <tr>\n",
       "      <th>16252</th>\n",
       "      <td>29.0</td>\n",
       "      <td>0.215</td>\n",
       "      <td>0.805</td>\n",
       "      <td>6.0</td>\n",
       "      <td>-12.757</td>\n",
       "      <td>0.0</td>\n",
       "      <td>0.1340</td>\n",
       "      <td>0.001290</td>\n",
       "      <td>0.916000</td>\n",
       "      <td>0.2560</td>\n",
       "      <td>0.3550</td>\n",
       "      <td>131.363</td>\n",
       "      <td>3.661550</td>\n",
       "      <td>4.0</td>\n",
       "      <td>8.0</td>\n",
       "    </tr>\n",
       "    <tr>\n",
       "      <th>16253</th>\n",
       "      <td>43.0</td>\n",
       "      <td>0.400</td>\n",
       "      <td>0.853</td>\n",
       "      <td>4.0</td>\n",
       "      <td>-5.320</td>\n",
       "      <td>0.0</td>\n",
       "      <td>0.0591</td>\n",
       "      <td>0.006040</td>\n",
       "      <td>0.212000</td>\n",
       "      <td>0.3340</td>\n",
       "      <td>0.3770</td>\n",
       "      <td>138.102</td>\n",
       "      <td>3.037117</td>\n",
       "      <td>4.0</td>\n",
       "      <td>10.0</td>\n",
       "    </tr>\n",
       "  </tbody>\n",
       "</table>\n",
       "<p>16254 rows × 15 columns</p>\n",
       "</div>"
      ],
      "text/plain": [
       "       Popularity  danceability  energy   key  loudness  mode  speechiness  \\\n",
       "0            60.0         0.854   0.564   1.0    -4.964   1.0       0.0485   \n",
       "1            54.0         0.382   0.814   3.0    -7.230   1.0       0.0406   \n",
       "2            35.0         0.434   0.614   6.0    -8.334   1.0       0.0525   \n",
       "3            66.0         0.853   0.597  10.0    -6.528   0.0       0.0555   \n",
       "4            53.0         0.167   0.975   2.0    -4.279   1.0       0.2160   \n",
       "...           ...           ...     ...   ...       ...   ...          ...   \n",
       "16249        35.0         0.166   0.109   7.0   -17.100   0.0       0.0413   \n",
       "16250        27.0         0.638   0.223  11.0   -10.174   0.0       0.0329   \n",
       "16251        34.0         0.558   0.981   4.0    -4.683   0.0       0.0712   \n",
       "16252        29.0         0.215   0.805   6.0   -12.757   0.0       0.1340   \n",
       "16253        43.0         0.400   0.853   4.0    -5.320   0.0       0.0591   \n",
       "\n",
       "       acousticness  instrumentalness  liveness  valence    tempo  \\\n",
       "0          0.017100          0.080992    0.0849   0.8990  134.071   \n",
       "1          0.001100          0.004010    0.1010   0.5690  116.454   \n",
       "2          0.486000          0.000196    0.3940   0.7870  147.681   \n",
       "3          0.021200          0.070187    0.1220   0.5690  107.033   \n",
       "4          0.000169          0.016100    0.1720   0.0918  199.060   \n",
       "...             ...               ...       ...      ...      ...   \n",
       "16249      0.993000          0.824000    0.0984   0.1770  171.587   \n",
       "16250      0.858000          0.000016    0.0705   0.3350   73.016   \n",
       "16251      0.000030          0.000136    0.6660   0.2620  105.000   \n",
       "16252      0.001290          0.916000    0.2560   0.3550  131.363   \n",
       "16253      0.006040          0.212000    0.3340   0.3770  138.102   \n",
       "\n",
       "       duration_mins  time_signature  Class  \n",
       "0           3.909933             4.0    5.0  \n",
       "1           4.195550             4.0   10.0  \n",
       "2           1.827783             4.0    6.0  \n",
       "3           2.899467             4.0    5.0  \n",
       "4           3.832667             4.0   10.0  \n",
       "...              ...             ...    ...  \n",
       "16249       3.224167             3.0    6.0  \n",
       "16250       4.284450             4.0    2.0  \n",
       "16251       3.603700             4.0    8.0  \n",
       "16252       3.661550             4.0    8.0  \n",
       "16253       3.037117             4.0   10.0  \n",
       "\n",
       "[16254 rows x 15 columns]"
      ]
     },
     "execution_count": 33,
     "metadata": {},
     "output_type": "execute_result"
    }
   ],
   "source": [
    "df"
   ]
  },
  {
   "cell_type": "code",
   "execution_count": 34,
   "id": "084e0988",
   "metadata": {
    "scrolled": true
   },
   "outputs": [
    {
     "data": {
      "text/html": [
       "<div>\n",
       "<style scoped>\n",
       "    .dataframe tbody tr th:only-of-type {\n",
       "        vertical-align: middle;\n",
       "    }\n",
       "\n",
       "    .dataframe tbody tr th {\n",
       "        vertical-align: top;\n",
       "    }\n",
       "\n",
       "    .dataframe thead th {\n",
       "        text-align: right;\n",
       "    }\n",
       "</style>\n",
       "<table border=\"1\" class=\"dataframe\">\n",
       "  <thead>\n",
       "    <tr style=\"text-align: right;\">\n",
       "      <th></th>\n",
       "      <th>Popularity</th>\n",
       "      <th>danceability</th>\n",
       "      <th>energy</th>\n",
       "      <th>key</th>\n",
       "      <th>loudness</th>\n",
       "      <th>mode</th>\n",
       "      <th>speechiness</th>\n",
       "      <th>acousticness</th>\n",
       "      <th>instrumentalness</th>\n",
       "      <th>liveness</th>\n",
       "      <th>valence</th>\n",
       "      <th>tempo</th>\n",
       "      <th>duration_mins</th>\n",
       "      <th>time_signature</th>\n",
       "      <th>Class</th>\n",
       "    </tr>\n",
       "  </thead>\n",
       "  <tbody>\n",
       "    <tr>\n",
       "      <th>count</th>\n",
       "      <td>16254.000000</td>\n",
       "      <td>16254.000000</td>\n",
       "      <td>16254.000000</td>\n",
       "      <td>16254.000000</td>\n",
       "      <td>16254.000000</td>\n",
       "      <td>16254.000000</td>\n",
       "      <td>16254.000000</td>\n",
       "      <td>16254.000000</td>\n",
       "      <td>16254.000000</td>\n",
       "      <td>16254.000000</td>\n",
       "      <td>16254.000000</td>\n",
       "      <td>16254.000000</td>\n",
       "      <td>16254.000000</td>\n",
       "      <td>16254.000000</td>\n",
       "      <td>16254.000000</td>\n",
       "    </tr>\n",
       "    <tr>\n",
       "      <th>mean</th>\n",
       "      <td>43.983568</td>\n",
       "      <td>0.545414</td>\n",
       "      <td>0.652665</td>\n",
       "      <td>5.934998</td>\n",
       "      <td>-8.047110</td>\n",
       "      <td>0.635659</td>\n",
       "      <td>0.080754</td>\n",
       "      <td>0.262231</td>\n",
       "      <td>0.167509</td>\n",
       "      <td>0.196017</td>\n",
       "      <td>0.482239</td>\n",
       "      <td>122.182119</td>\n",
       "      <td>3.946236</td>\n",
       "      <td>3.920819</td>\n",
       "      <td>6.752430</td>\n",
       "    </tr>\n",
       "    <tr>\n",
       "      <th>std</th>\n",
       "      <td>17.264186</td>\n",
       "      <td>0.167302</td>\n",
       "      <td>0.239194</td>\n",
       "      <td>3.014093</td>\n",
       "      <td>4.149558</td>\n",
       "      <td>0.481260</td>\n",
       "      <td>0.085566</td>\n",
       "      <td>0.317285</td>\n",
       "      <td>0.268598</td>\n",
       "      <td>0.160409</td>\n",
       "      <td>0.241186</td>\n",
       "      <td>29.675445</td>\n",
       "      <td>1.444323</td>\n",
       "      <td>0.369672</td>\n",
       "      <td>3.165523</td>\n",
       "    </tr>\n",
       "    <tr>\n",
       "      <th>min</th>\n",
       "      <td>1.000000</td>\n",
       "      <td>0.059600</td>\n",
       "      <td>0.000020</td>\n",
       "      <td>1.000000</td>\n",
       "      <td>-39.952000</td>\n",
       "      <td>0.000000</td>\n",
       "      <td>0.022500</td>\n",
       "      <td>0.000000</td>\n",
       "      <td>0.000001</td>\n",
       "      <td>0.011900</td>\n",
       "      <td>0.018300</td>\n",
       "      <td>30.557000</td>\n",
       "      <td>0.388667</td>\n",
       "      <td>1.000000</td>\n",
       "      <td>0.000000</td>\n",
       "    </tr>\n",
       "    <tr>\n",
       "      <th>25%</th>\n",
       "      <td>33.000000</td>\n",
       "      <td>0.433000</td>\n",
       "      <td>0.493000</td>\n",
       "      <td>4.000000</td>\n",
       "      <td>-9.743000</td>\n",
       "      <td>0.000000</td>\n",
       "      <td>0.034800</td>\n",
       "      <td>0.005602</td>\n",
       "      <td>0.000302</td>\n",
       "      <td>0.097625</td>\n",
       "      <td>0.291000</td>\n",
       "      <td>98.915250</td>\n",
       "      <td>3.131783</td>\n",
       "      <td>4.000000</td>\n",
       "      <td>5.000000</td>\n",
       "    </tr>\n",
       "    <tr>\n",
       "      <th>50%</th>\n",
       "      <td>43.000000</td>\n",
       "      <td>0.547000</td>\n",
       "      <td>0.690000</td>\n",
       "      <td>6.000000</td>\n",
       "      <td>-7.115000</td>\n",
       "      <td>1.000000</td>\n",
       "      <td>0.047200</td>\n",
       "      <td>0.096600</td>\n",
       "      <td>0.047050</td>\n",
       "      <td>0.128000</td>\n",
       "      <td>0.476000</td>\n",
       "      <td>120.004500</td>\n",
       "      <td>3.676717</td>\n",
       "      <td>4.000000</td>\n",
       "      <td>8.000000</td>\n",
       "    </tr>\n",
       "    <tr>\n",
       "      <th>75%</th>\n",
       "      <td>55.000000</td>\n",
       "      <td>0.663000</td>\n",
       "      <td>0.853000</td>\n",
       "      <td>8.000000</td>\n",
       "      <td>-5.232250</td>\n",
       "      <td>1.000000</td>\n",
       "      <td>0.083800</td>\n",
       "      <td>0.470000</td>\n",
       "      <td>0.181477</td>\n",
       "      <td>0.255000</td>\n",
       "      <td>0.669000</td>\n",
       "      <td>141.423000</td>\n",
       "      <td>4.408842</td>\n",
       "      <td>4.000000</td>\n",
       "      <td>10.000000</td>\n",
       "    </tr>\n",
       "    <tr>\n",
       "      <th>max</th>\n",
       "      <td>100.000000</td>\n",
       "      <td>0.989000</td>\n",
       "      <td>1.000000</td>\n",
       "      <td>11.000000</td>\n",
       "      <td>1.355000</td>\n",
       "      <td>1.000000</td>\n",
       "      <td>0.955000</td>\n",
       "      <td>0.996000</td>\n",
       "      <td>0.996000</td>\n",
       "      <td>1.000000</td>\n",
       "      <td>0.986000</td>\n",
       "      <td>217.416000</td>\n",
       "      <td>29.886000</td>\n",
       "      <td>5.000000</td>\n",
       "      <td>10.000000</td>\n",
       "    </tr>\n",
       "  </tbody>\n",
       "</table>\n",
       "</div>"
      ],
      "text/plain": [
       "         Popularity  danceability        energy           key      loudness  \\\n",
       "count  16254.000000  16254.000000  16254.000000  16254.000000  16254.000000   \n",
       "mean      43.983568      0.545414      0.652665      5.934998     -8.047110   \n",
       "std       17.264186      0.167302      0.239194      3.014093      4.149558   \n",
       "min        1.000000      0.059600      0.000020      1.000000    -39.952000   \n",
       "25%       33.000000      0.433000      0.493000      4.000000     -9.743000   \n",
       "50%       43.000000      0.547000      0.690000      6.000000     -7.115000   \n",
       "75%       55.000000      0.663000      0.853000      8.000000     -5.232250   \n",
       "max      100.000000      0.989000      1.000000     11.000000      1.355000   \n",
       "\n",
       "               mode   speechiness  acousticness  instrumentalness  \\\n",
       "count  16254.000000  16254.000000  16254.000000      16254.000000   \n",
       "mean       0.635659      0.080754      0.262231          0.167509   \n",
       "std        0.481260      0.085566      0.317285          0.268598   \n",
       "min        0.000000      0.022500      0.000000          0.000001   \n",
       "25%        0.000000      0.034800      0.005602          0.000302   \n",
       "50%        1.000000      0.047200      0.096600          0.047050   \n",
       "75%        1.000000      0.083800      0.470000          0.181477   \n",
       "max        1.000000      0.955000      0.996000          0.996000   \n",
       "\n",
       "           liveness       valence         tempo  duration_mins  \\\n",
       "count  16254.000000  16254.000000  16254.000000   16254.000000   \n",
       "mean       0.196017      0.482239    122.182119       3.946236   \n",
       "std        0.160409      0.241186     29.675445       1.444323   \n",
       "min        0.011900      0.018300     30.557000       0.388667   \n",
       "25%        0.097625      0.291000     98.915250       3.131783   \n",
       "50%        0.128000      0.476000    120.004500       3.676717   \n",
       "75%        0.255000      0.669000    141.423000       4.408842   \n",
       "max        1.000000      0.986000    217.416000      29.886000   \n",
       "\n",
       "       time_signature         Class  \n",
       "count    16254.000000  16254.000000  \n",
       "mean         3.920819      6.752430  \n",
       "std          0.369672      3.165523  \n",
       "min          1.000000      0.000000  \n",
       "25%          4.000000      5.000000  \n",
       "50%          4.000000      8.000000  \n",
       "75%          4.000000     10.000000  \n",
       "max          5.000000     10.000000  "
      ]
     },
     "execution_count": 34,
     "metadata": {},
     "output_type": "execute_result"
    }
   ],
   "source": [
    "df.describe()"
   ]
  },
  {
   "cell_type": "markdown",
   "id": "7ccab273",
   "metadata": {},
   "source": [
    "<br/><br/><br/><br/>"
   ]
  },
  {
   "cell_type": "markdown",
   "id": "3efe05d8",
   "metadata": {},
   "source": [
    "# Check for Outliers"
   ]
  },
  {
   "cell_type": "code",
   "execution_count": 35,
   "id": "c61d69ae",
   "metadata": {},
   "outputs": [],
   "source": [
    "from sklearn.model_selection import train_test_split\n",
    "from sklearn.ensemble import IsolationForest\n",
    "\n",
    "data = df.values\n",
    "X, y = data[:, :-1], data[:, -1]\n",
    "\n",
    "# identify outliers in the training dataset\n",
    "iso = IsolationForest(contamination=0.1)\n",
    "yhat = iso.fit_predict(X)\n",
    "\n",
    "# Removing the outliers\n",
    "mask = yhat != -1\n",
    "X = X[mask,:]\n"
   ]
  },
  {
   "cell_type": "code",
   "execution_count": 36,
   "id": "4ea4ac8a",
   "metadata": {},
   "outputs": [],
   "source": [
    "# Saving the dataframe\n",
    "df = pd.DataFrame(X, columns=df.columns[:-1]).join(pd.DataFrame(y, columns=[df.columns[-1]]))"
   ]
  },
  {
   "cell_type": "code",
   "execution_count": 37,
   "id": "35f32a52",
   "metadata": {},
   "outputs": [
    {
     "name": "stderr",
     "output_type": "stream",
     "text": [
      "<ipython-input-37-73ef92ebd3eb>:3: UserWarning: To output multiple subplots, the figure containing the passed axes is being cleared\n",
      "  df.hist(ax = ax)\n"
     ]
    },
    {
     "data": {
      "text/plain": [
       "array([[<AxesSubplot:title={'center':'Popularity'}>,\n",
       "        <AxesSubplot:title={'center':'danceability'}>,\n",
       "        <AxesSubplot:title={'center':'energy'}>,\n",
       "        <AxesSubplot:title={'center':'key'}>],\n",
       "       [<AxesSubplot:title={'center':'loudness'}>,\n",
       "        <AxesSubplot:title={'center':'mode'}>,\n",
       "        <AxesSubplot:title={'center':'speechiness'}>,\n",
       "        <AxesSubplot:title={'center':'acousticness'}>],\n",
       "       [<AxesSubplot:title={'center':'instrumentalness'}>,\n",
       "        <AxesSubplot:title={'center':'liveness'}>,\n",
       "        <AxesSubplot:title={'center':'valence'}>,\n",
       "        <AxesSubplot:title={'center':'tempo'}>],\n",
       "       [<AxesSubplot:title={'center':'duration_mins'}>,\n",
       "        <AxesSubplot:title={'center':'time_signature'}>,\n",
       "        <AxesSubplot:title={'center':'Class'}>, <AxesSubplot:>]],\n",
       "      dtype=object)"
      ]
     },
     "execution_count": 37,
     "metadata": {},
     "output_type": "execute_result"
    },
    {
     "data": {
      "image/png": "[encoded data removed]",
      "text/plain": [
       "<Figure size 1080x720 with 16 Axes>"
      ]
     },
     "metadata": {
      "needs_background": "light"
     },
     "output_type": "display_data"
    }
   ],
   "source": [
    "fig = plt.figure(figsize = (15,10))\n",
    "ax = fig.gca()\n",
    "df.hist(ax = ax)"
   ]
  },
  {
   "cell_type": "markdown",
   "id": "af66d645",
   "metadata": {},
   "source": [
    "<br/><br/><br/><br/>"
   ]
  },
  {
   "cell_type": "markdown",
   "id": "abf0d2cf",
   "metadata": {},
   "source": [
    "# Changing Data Type from Float64 to Int64\n",
    "\n",
    "*Columns Affected are : mode, time_signature, Class*\n",
    "<br/>\n",
    "*Columns that are initially int64*"
   ]
  },
  {
   "cell_type": "code",
   "execution_count": 38,
   "id": "1f40a333",
   "metadata": {},
   "outputs": [],
   "source": [
    "df = df.astype({'mode':'int64', 'time_signature': 'int64', 'Class': 'int64'}, copy=False)"
   ]
  },
  {
   "cell_type": "code",
   "execution_count": 39,
   "id": "69297e8b",
   "metadata": {},
   "outputs": [
    {
     "name": "stdout",
     "output_type": "stream",
     "text": [
      "<class 'pandas.core.frame.DataFrame'>\n",
      "RangeIndex: 14628 entries, 0 to 14627\n",
      "Data columns (total 15 columns):\n",
      " #   Column            Non-Null Count  Dtype  \n",
      "---  ------            --------------  -----  \n",
      " 0   Popularity        14628 non-null  float64\n",
      " 1   danceability      14628 non-null  float64\n",
      " 2   energy            14628 non-null  float64\n",
      " 3   key               14628 non-null  float64\n",
      " 4   loudness          14628 non-null  float64\n",
      " 5   mode              14628 non-null  int64  \n",
      " 6   speechiness       14628 non-null  float64\n",
      " 7   acousticness      14628 non-null  float64\n",
      " 8   instrumentalness  14628 non-null  float64\n",
      " 9   liveness          14628 non-null  float64\n",
      " 10  valence           14628 non-null  float64\n",
      " 11  tempo             14628 non-null  float64\n",
      " 12  duration_mins     14628 non-null  float64\n",
      " 13  time_signature    14628 non-null  int64  \n",
      " 14  Class             14628 non-null  int64  \n",
      "dtypes: float64(12), int64(3)\n",
      "memory usage: 1.7 MB\n"
     ]
    }
   ],
   "source": [
    "df.info()"
   ]
  },
  {
   "cell_type": "markdown",
   "id": "116d4736",
   "metadata": {},
   "source": [
    "<br/><br/><br/><br/>"
   ]
  },
  {
   "cell_type": "markdown",
   "id": "53bf958b",
   "metadata": {},
   "source": [
    "# Data Balancing"
   ]
  },
  {
   "cell_type": "markdown",
   "id": "08752b1a",
   "metadata": {},
   "source": [
    "#### Distribution of Class (Label)"
   ]
  },
  {
   "cell_type": "code",
   "execution_count": 40,
   "id": "21e5fa10",
   "metadata": {
    "scrolled": true
   },
   "outputs": [
    {
     "data": {
      "text/plain": [
       "<AxesSubplot:>"
      ]
     },
     "execution_count": 40,
     "metadata": {},
     "output_type": "execute_result"
    },
    {
     "data": {
      "image/png": "[encoded data removed]",
      "text/plain": [
       "<Figure size 432x288 with 1 Axes>"
      ]
     },
     "metadata": {
      "needs_background": "light"
     },
     "output_type": "display_data"
    }
   ],
   "source": [
    "df.Class.hist(bins=11)"
   ]
  },
  {
   "cell_type": "code",
   "execution_count": 41,
   "id": "8979ff82",
   "metadata": {},
   "outputs": [],
   "source": [
    "from imblearn.over_sampling import SMOTE"
   ]
  },
  {
   "cell_type": "code",
   "execution_count": 42,
   "id": "ec35d228",
   "metadata": {},
   "outputs": [],
   "source": [
    "from sklearn.model_selection import train_test_split"
   ]
  },
  {
   "cell_type": "code",
   "execution_count": 43,
   "id": "a75fe4f0",
   "metadata": {},
   "outputs": [],
   "source": [
    "X, y = df.iloc[:,:-1], df.iloc[:,-1]"
   ]
  },
  {
   "cell_type": "code",
   "execution_count": 44,
   "id": "795367ba",
   "metadata": {},
   "outputs": [],
   "source": [
    "oversample = SMOTE()"
   ]
  },
  {
   "cell_type": "markdown",
   "id": "650527bf",
   "metadata": {},
   "source": [
    "Leaving the testing set for final metric check"
   ]
  },
  {
   "cell_type": "code",
   "execution_count": 45,
   "id": "f1c0d692",
   "metadata": {},
   "outputs": [],
   "source": [
    "X, y = oversample.fit_resample(X, y)"
   ]
  },
  {
   "cell_type": "markdown",
   "id": "dbbfed5b",
   "metadata": {},
   "source": [
    "#### Distribution of Class (Label)"
   ]
  },
  {
   "cell_type": "code",
   "execution_count": 46,
   "id": "2b36c565",
   "metadata": {},
   "outputs": [
    {
     "data": {
      "text/plain": [
       "<AxesSubplot:>"
      ]
     },
     "execution_count": 46,
     "metadata": {},
     "output_type": "execute_result"
    },
    {
     "data": {
      "image/png": "[encoded data removed]",
      "text/plain": [
       "<Figure size 432x288 with 1 Axes>"
      ]
     },
     "metadata": {
      "needs_background": "light"
     },
     "output_type": "display_data"
    }
   ],
   "source": [
    "y.hist(bins=11)"
   ]
  },
  {
   "cell_type": "markdown",
   "id": "f3a8d231",
   "metadata": {},
   "source": [
    "<br/><br/><br/><br/>"
   ]
  },
  {
   "cell_type": "markdown",
   "id": "9d39b0ac",
   "metadata": {},
   "source": [
    "# kernel density estimate of features before Scaling"
   ]
  },
  {
   "cell_type": "code",
   "execution_count": 47,
   "id": "dd7818da",
   "metadata": {},
   "outputs": [],
   "source": [
    "df2 = pd.DataFrame(X, columns=df.columns.to_list()[:-1])"
   ]
  },
  {
   "cell_type": "code",
   "execution_count": 48,
   "id": "ef61976c",
   "metadata": {},
   "outputs": [
    {
     "data": {
      "text/plain": [
       "<AxesSubplot:ylabel='Density'>"
      ]
     },
     "execution_count": 48,
     "metadata": {},
     "output_type": "execute_result"
    },
    {
     "data": {
      "image/png": "[encoded data removed]",
      "text/plain": [
       "<Figure size 1080x576 with 1 Axes>"
      ]
     },
     "metadata": {
      "needs_background": "light"
     },
     "output_type": "display_data"
    }
   ],
   "source": [
    "plt.figure(figsize=(15,8))\n",
    "sns.kdeplot(data=df2)"
   ]
  },
  {
   "cell_type": "markdown",
   "id": "8fe7ff0e",
   "metadata": {},
   "source": [
    "## <br/><br/><br/><br/>"
   ]
  },
  {
   "cell_type": "markdown",
   "id": "7116ac31",
   "metadata": {},
   "source": [
    "# Feature Scaling\n",
    "Need for Models such as Logistic Regression, K-Nearest Classifer and SVM.<br/>\n",
    "Will not affect results for Models that does not require scalin such as MLP, Decision Tree and Random Forest"
   ]
  },
  {
   "cell_type": "code",
   "execution_count": 49,
   "id": "7d6972e2",
   "metadata": {},
   "outputs": [],
   "source": [
    "from sklearn.preprocessing import StandardScaler"
   ]
  },
  {
   "cell_type": "code",
   "execution_count": 50,
   "id": "eef22a78",
   "metadata": {},
   "outputs": [],
   "source": [
    "scaler = StandardScaler()"
   ]
  },
  {
   "cell_type": "markdown",
   "id": "146f88b6",
   "metadata": {},
   "source": [
    "Fit Training Data and exclude Validation Set to prevent Leakage"
   ]
  },
  {
   "cell_type": "code",
   "execution_count": 51,
   "id": "8275c5b7",
   "metadata": {},
   "outputs": [],
   "source": [
    "df2 = pd.DataFrame(scaler.fit_transform(df2), columns=df2.columns.to_list())"
   ]
  },
  {
   "cell_type": "markdown",
   "id": "59285eab",
   "metadata": {},
   "source": [
    "# kernel density estimate of features after Scaling"
   ]
  },
  {
   "cell_type": "code",
   "execution_count": 52,
   "id": "f5512bc4",
   "metadata": {},
   "outputs": [
    {
     "data": {
      "text/plain": [
       "<AxesSubplot:ylabel='Density'>"
      ]
     },
     "execution_count": 52,
     "metadata": {},
     "output_type": "execute_result"
    },
    {
     "data": {
      "image/png": "[encoded data removed]",
      "text/plain": [
       "<Figure size 1080x576 with 1 Axes>"
      ]
     },
     "metadata": {
      "needs_background": "light"
     },
     "output_type": "display_data"
    }
   ],
   "source": [
    "plt.figure(figsize=(15,8))\n",
    "sns.kdeplot(data=df2)"
   ]
  },
  {
   "cell_type": "code",
   "execution_count": 53,
   "id": "821451a0",
   "metadata": {},
   "outputs": [],
   "source": [
    "df3 = df2.join(pd.DataFrame(y, columns=['Class']))"
   ]
  },
  {
   "cell_type": "code",
   "execution_count": 54,
   "id": "5eacbed7",
   "metadata": {},
   "outputs": [
    {
     "data": {
      "text/html": [
       "<div>\n",
       "<style scoped>\n",
       "    .dataframe tbody tr th:only-of-type {\n",
       "        vertical-align: middle;\n",
       "    }\n",
       "\n",
       "    .dataframe tbody tr th {\n",
       "        vertical-align: top;\n",
       "    }\n",
       "\n",
       "    .dataframe thead th {\n",
       "        text-align: right;\n",
       "    }\n",
       "</style>\n",
       "<table border=\"1\" class=\"dataframe\">\n",
       "  <thead>\n",
       "    <tr style=\"text-align: right;\">\n",
       "      <th></th>\n",
       "      <th>Popularity</th>\n",
       "      <th>danceability</th>\n",
       "      <th>energy</th>\n",
       "      <th>key</th>\n",
       "      <th>loudness</th>\n",
       "      <th>mode</th>\n",
       "      <th>speechiness</th>\n",
       "      <th>acousticness</th>\n",
       "      <th>instrumentalness</th>\n",
       "      <th>liveness</th>\n",
       "      <th>valence</th>\n",
       "      <th>tempo</th>\n",
       "      <th>duration_mins</th>\n",
       "      <th>time_signature</th>\n",
       "      <th>Class</th>\n",
       "    </tr>\n",
       "  </thead>\n",
       "  <tbody>\n",
       "    <tr>\n",
       "      <th>0</th>\n",
       "      <td>0.905016</td>\n",
       "      <td>2.077703</td>\n",
       "      <td>-0.590420</td>\n",
       "      <td>-1.781548</td>\n",
       "      <td>0.833292</td>\n",
       "      <td>1.003290</td>\n",
       "      <td>-0.417539</td>\n",
       "      <td>-0.812656</td>\n",
       "      <td>-0.236648</td>\n",
       "      <td>-0.814060</td>\n",
       "      <td>1.935122</td>\n",
       "      <td>0.409348</td>\n",
       "      <td>0.057716</td>\n",
       "      <td>0.265593</td>\n",
       "      <td>5</td>\n",
       "    </tr>\n",
       "    <tr>\n",
       "      <th>1</th>\n",
       "      <td>0.546169</td>\n",
       "      <td>-1.252460</td>\n",
       "      <td>0.696136</td>\n",
       "      <td>-1.058714</td>\n",
       "      <td>0.049452</td>\n",
       "      <td>1.003290</td>\n",
       "      <td>-0.536510</td>\n",
       "      <td>-0.874830</td>\n",
       "      <td>-0.636199</td>\n",
       "      <td>-0.686606</td>\n",
       "      <td>0.341038</td>\n",
       "      <td>-0.214270</td>\n",
       "      <td>0.337804</td>\n",
       "      <td>0.265593</td>\n",
       "      <td>10</td>\n",
       "    </tr>\n",
       "    <tr>\n",
       "      <th>2</th>\n",
       "      <td>-0.590178</td>\n",
       "      <td>-0.885577</td>\n",
       "      <td>-0.333109</td>\n",
       "      <td>0.025537</td>\n",
       "      <td>-0.332436</td>\n",
       "      <td>1.003290</td>\n",
       "      <td>-0.357300</td>\n",
       "      <td>1.009412</td>\n",
       "      <td>-0.655994</td>\n",
       "      <td>1.632889</td>\n",
       "      <td>1.394099</td>\n",
       "      <td>0.891123</td>\n",
       "      <td>-1.984129</td>\n",
       "      <td>0.265593</td>\n",
       "      <td>6</td>\n",
       "    </tr>\n",
       "    <tr>\n",
       "      <th>3</th>\n",
       "      <td>1.263862</td>\n",
       "      <td>2.070648</td>\n",
       "      <td>-0.420595</td>\n",
       "      <td>1.471205</td>\n",
       "      <td>0.292283</td>\n",
       "      <td>-0.996721</td>\n",
       "      <td>-0.312121</td>\n",
       "      <td>-0.796724</td>\n",
       "      <td>-0.292731</td>\n",
       "      <td>-0.520363</td>\n",
       "      <td>0.341038</td>\n",
       "      <td>-0.547761</td>\n",
       "      <td>-0.933191</td>\n",
       "      <td>0.265593</td>\n",
       "      <td>5</td>\n",
       "    </tr>\n",
       "    <tr>\n",
       "      <th>4</th>\n",
       "      <td>0.486361</td>\n",
       "      <td>-2.289608</td>\n",
       "      <td>1.534971</td>\n",
       "      <td>0.025537</td>\n",
       "      <td>2.854116</td>\n",
       "      <td>1.003290</td>\n",
       "      <td>0.463452</td>\n",
       "      <td>-0.865387</td>\n",
       "      <td>-0.625663</td>\n",
       "      <td>-0.124545</td>\n",
       "      <td>-1.243385</td>\n",
       "      <td>1.077710</td>\n",
       "      <td>-0.374796</td>\n",
       "      <td>0.265593</td>\n",
       "      <td>10</td>\n",
       "    </tr>\n",
       "    <tr>\n",
       "      <th>...</th>\n",
       "      <td>...</td>\n",
       "      <td>...</td>\n",
       "      <td>...</td>\n",
       "      <td>...</td>\n",
       "      <td>...</td>\n",
       "      <td>...</td>\n",
       "      <td>...</td>\n",
       "      <td>...</td>\n",
       "      <td>...</td>\n",
       "      <td>...</td>\n",
       "      <td>...</td>\n",
       "      <td>...</td>\n",
       "      <td>...</td>\n",
       "      <td>...</td>\n",
       "      <td>...</td>\n",
       "    </tr>\n",
       "    <tr>\n",
       "      <th>43841</th>\n",
       "      <td>-0.824685</td>\n",
       "      <td>0.336560</td>\n",
       "      <td>0.190849</td>\n",
       "      <td>-1.420131</td>\n",
       "      <td>0.327031</td>\n",
       "      <td>1.003290</td>\n",
       "      <td>-0.698539</td>\n",
       "      <td>0.114720</td>\n",
       "      <td>1.501699</td>\n",
       "      <td>-0.258084</td>\n",
       "      <td>0.569935</td>\n",
       "      <td>-0.050802</td>\n",
       "      <td>0.986666</td>\n",
       "      <td>0.265593</td>\n",
       "      <td>9</td>\n",
       "    </tr>\n",
       "    <tr>\n",
       "      <th>43842</th>\n",
       "      <td>-0.359975</td>\n",
       "      <td>-0.170780</td>\n",
       "      <td>1.020249</td>\n",
       "      <td>-1.573561</td>\n",
       "      <td>0.608973</td>\n",
       "      <td>1.003290</td>\n",
       "      <td>0.965496</td>\n",
       "      <td>-0.866535</td>\n",
       "      <td>-0.593475</td>\n",
       "      <td>1.252381</td>\n",
       "      <td>-1.009703</td>\n",
       "      <td>-0.725123</td>\n",
       "      <td>0.073830</td>\n",
       "      <td>0.265593</td>\n",
       "      <td>9</td>\n",
       "    </tr>\n",
       "    <tr>\n",
       "      <th>43843</th>\n",
       "      <td>0.097618</td>\n",
       "      <td>0.442868</td>\n",
       "      <td>0.665834</td>\n",
       "      <td>0.885211</td>\n",
       "      <td>-0.079595</td>\n",
       "      <td>-0.996721</td>\n",
       "      <td>-0.002279</td>\n",
       "      <td>-0.858957</td>\n",
       "      <td>-0.653366</td>\n",
       "      <td>0.387322</td>\n",
       "      <td>-0.280323</td>\n",
       "      <td>-0.319072</td>\n",
       "      <td>-0.182580</td>\n",
       "      <td>-2.979998</td>\n",
       "      <td>9</td>\n",
       "    </tr>\n",
       "    <tr>\n",
       "      <th>43844</th>\n",
       "      <td>-0.140591</td>\n",
       "      <td>-1.046446</td>\n",
       "      <td>-0.517304</td>\n",
       "      <td>0.013109</td>\n",
       "      <td>-0.074842</td>\n",
       "      <td>1.003290</td>\n",
       "      <td>-0.649193</td>\n",
       "      <td>-0.054500</td>\n",
       "      <td>-0.656660</td>\n",
       "      <td>-0.409000</td>\n",
       "      <td>0.110171</td>\n",
       "      <td>0.962977</td>\n",
       "      <td>0.461323</td>\n",
       "      <td>0.265593</td>\n",
       "      <td>9</td>\n",
       "    </tr>\n",
       "    <tr>\n",
       "      <th>43845</th>\n",
       "      <td>-0.203491</td>\n",
       "      <td>-0.384473</td>\n",
       "      <td>-0.569121</td>\n",
       "      <td>-0.335880</td>\n",
       "      <td>-1.466942</td>\n",
       "      <td>-0.996721</td>\n",
       "      <td>-0.713163</td>\n",
       "      <td>0.721042</td>\n",
       "      <td>0.561406</td>\n",
       "      <td>-0.404894</td>\n",
       "      <td>0.943850</td>\n",
       "      <td>-0.772995</td>\n",
       "      <td>-0.075589</td>\n",
       "      <td>0.265593</td>\n",
       "      <td>9</td>\n",
       "    </tr>\n",
       "  </tbody>\n",
       "</table>\n",
       "<p>43846 rows × 15 columns</p>\n",
       "</div>"
      ],
      "text/plain": [
       "       Popularity  danceability    energy       key  loudness      mode  \\\n",
       "0        0.905016      2.077703 -0.590420 -1.781548  0.833292  1.003290   \n",
       "1        0.546169     -1.252460  0.696136 -1.058714  0.049452  1.003290   \n",
       "2       -0.590178     -0.885577 -0.333109  0.025537 -0.332436  1.003290   \n",
       "3        1.263862      2.070648 -0.420595  1.471205  0.292283 -0.996721   \n",
       "4        0.486361     -2.289608  1.534971  0.025537  2.854116  1.003290   \n",
       "...           ...           ...       ...       ...       ...       ...   \n",
       "43841   -0.824685      0.336560  0.190849 -1.420131  0.327031  1.003290   \n",
       "43842   -0.359975     -0.170780  1.020249 -1.573561  0.608973  1.003290   \n",
       "43843    0.097618      0.442868  0.665834  0.885211 -0.079595 -0.996721   \n",
       "43844   -0.140591     -1.046446 -0.517304  0.013109 -0.074842  1.003290   \n",
       "43845   -0.203491     -0.384473 -0.569121 -0.335880 -1.466942 -0.996721   \n",
       "\n",
       "       speechiness  acousticness  instrumentalness  liveness   valence  \\\n",
       "0        -0.417539     -0.812656         -0.236648 -0.814060  1.935122   \n",
       "1        -0.536510     -0.874830         -0.636199 -0.686606  0.341038   \n",
       "2        -0.357300      1.009412         -0.655994  1.632889  1.394099   \n",
       "3        -0.312121     -0.796724         -0.292731 -0.520363  0.341038   \n",
       "4         0.463452     -0.865387         -0.625663 -0.124545 -1.243385   \n",
       "...            ...           ...               ...       ...       ...   \n",
       "43841    -0.698539      0.114720          1.501699 -0.258084  0.569935   \n",
       "43842     0.965496     -0.866535         -0.593475  1.252381 -1.009703   \n",
       "43843    -0.002279     -0.858957         -0.653366  0.387322 -0.280323   \n",
       "43844    -0.649193     -0.054500         -0.656660 -0.409000  0.110171   \n",
       "43845    -0.713163      0.721042          0.561406 -0.404894  0.943850   \n",
       "\n",
       "          tempo  duration_mins  time_signature  Class  \n",
       "0      0.409348       0.057716        0.265593      5  \n",
       "1     -0.214270       0.337804        0.265593     10  \n",
       "2      0.891123      -1.984129        0.265593      6  \n",
       "3     -0.547761      -0.933191        0.265593      5  \n",
       "4      1.077710      -0.374796        0.265593     10  \n",
       "...         ...            ...             ...    ...  \n",
       "43841 -0.050802       0.986666        0.265593      9  \n",
       "43842 -0.725123       0.073830        0.265593      9  \n",
       "43843 -0.319072      -0.182580       -2.979998      9  \n",
       "43844  0.962977       0.461323        0.265593      9  \n",
       "43845 -0.772995      -0.075589        0.265593      9  \n",
       "\n",
       "[43846 rows x 15 columns]"
      ]
     },
     "execution_count": 54,
     "metadata": {},
     "output_type": "execute_result"
    }
   ],
   "source": [
    "df3"
   ]
  },
  {
   "cell_type": "markdown",
   "id": "d804c482",
   "metadata": {},
   "source": [
    "<br/><br/><br/><br/>"
   ]
  },
  {
   "cell_type": "markdown",
   "id": "5e8d9931",
   "metadata": {},
   "source": [
    "\n",
    "# Model Selection"
   ]
  },
  {
   "cell_type": "markdown",
   "id": "8cdd2e06",
   "metadata": {},
   "source": [
    "### Models"
   ]
  },
  {
   "cell_type": "code",
   "execution_count": 55,
   "id": "451de08b",
   "metadata": {},
   "outputs": [],
   "source": [
    "from sklearn.svm import SVC\n",
    "svc_m = SVC(random_state=42)"
   ]
  },
  {
   "cell_type": "code",
   "execution_count": 56,
   "id": "07567644",
   "metadata": {},
   "outputs": [],
   "source": [
    "from sklearn.linear_model import LogisticRegression\n",
    "clr_m = LogisticRegression(max_iter=4000, random_state=42)"
   ]
  },
  {
   "cell_type": "code",
   "execution_count": 57,
   "id": "6c11cc63",
   "metadata": {},
   "outputs": [],
   "source": [
    "from sklearn.neighbors import KNeighborsClassifier\n",
    "knn_m = KNeighborsClassifier()"
   ]
  },
  {
   "cell_type": "code",
   "execution_count": 58,
   "id": "3cf228b5",
   "metadata": {},
   "outputs": [],
   "source": [
    "from sklearn.linear_model import SGDClassifier\n",
    "sgd_m = SGDClassifier(random_state=42)"
   ]
  },
  {
   "cell_type": "code",
   "execution_count": 59,
   "id": "30f31255",
   "metadata": {},
   "outputs": [],
   "source": [
    "from sklearn.tree import DecisionTreeClassifier\n",
    "dt_m = DecisionTreeClassifier(random_state=42)"
   ]
  },
  {
   "cell_type": "code",
   "execution_count": 60,
   "id": "f7285d18",
   "metadata": {},
   "outputs": [],
   "source": [
    "from sklearn.neural_network import MLPClassifier\n",
    "mlp_m = MLPClassifier(max_iter=2000, random_state=42, early_stopping=True)"
   ]
  },
  {
   "cell_type": "code",
   "execution_count": 61,
   "id": "0344625d",
   "metadata": {},
   "outputs": [],
   "source": [
    "from sklearn.ensemble import RandomForestClassifier\n",
    "rforest = RandomForestClassifier(random_state=42)"
   ]
  },
  {
   "cell_type": "markdown",
   "id": "0e1ff36a",
   "metadata": {},
   "source": [
    "### Metrics"
   ]
  },
  {
   "cell_type": "code",
   "execution_count": 62,
   "id": "6a9920ac",
   "metadata": {},
   "outputs": [],
   "source": [
    "from sklearn.metrics import f1_score, classification_report"
   ]
  },
  {
   "cell_type": "markdown",
   "id": "d4e26705",
   "metadata": {},
   "source": [
    "\n",
    "### Model Selection"
   ]
  },
  {
   "cell_type": "code",
   "execution_count": 63,
   "id": "32c0f8df",
   "metadata": {},
   "outputs": [],
   "source": [
    "from sklearn.model_selection import cross_validate"
   ]
  },
  {
   "cell_type": "code",
   "execution_count": 64,
   "id": "821e731a",
   "metadata": {},
   "outputs": [],
   "source": [
    "scoring = {'f1_micro': 'f1_micro',\n",
    "           'f1_macro': 'f1_macro',}"
   ]
  },
  {
   "cell_type": "code",
   "execution_count": 65,
   "id": "9af83f41",
   "metadata": {},
   "outputs": [],
   "source": [
    "models = [svc_m, clr_m, knn_m, sgd_m, dt_m, mlp_m, rforest]\n",
    "models_names = ['SVC', 'CLR', 'KNN', 'SGD', 'DT', 'MLP', 'RF']"
   ]
  },
  {
   "cell_type": "markdown",
   "id": "29c08a0c",
   "metadata": {},
   "source": [
    "#### Running All the models with 5 k fold validation"
   ]
  },
  {
   "cell_type": "code",
   "execution_count": 66,
   "id": "3e85901d",
   "metadata": {},
   "outputs": [
    {
     "name": "stdout",
     "output_type": "stream",
     "text": [
      "Running SVC\n",
      "SVC Done!\n",
      "Running CLR\n",
      "CLR Done!\n",
      "Running KNN\n",
      "KNN Done!\n",
      "Running SGD\n",
      "SGD Done!\n",
      "Running DT\n",
      "DT Done!\n",
      "Running MLP\n",
      "MLP Done!\n",
      "Running RF\n",
      "RF Done!\n"
     ]
    }
   ],
   "source": [
    "result_dict = {}\n",
    "for i in range(len(models)):\n",
    "    print('Running', models_names[i])\n",
    "    scores = cross_validate(models[i], X, y, cv=5, scoring=scoring, n_jobs=-1)\n",
    "    print(models_names[i], 'Done!')\n",
    "    result_dict[models_names[i]] = scores"
   ]
  },
  {
   "cell_type": "markdown",
   "id": "afdbdbc5",
   "metadata": {},
   "source": [
    "#### Visualising the Results"
   ]
  },
  {
   "cell_type": "code",
   "execution_count": 67,
   "id": "99e81562",
   "metadata": {},
   "outputs": [],
   "source": [
    "score_time_list = []\n",
    "test_f1_macro_list = []\n",
    "test_f1_micro_list = []\n",
    "models_list = list(result_dict.keys())\n",
    "\n",
    "for key, value in result_dict.items():\n",
    "    score_time_list.append(value['score_time'].mean())\n",
    "    test_f1_macro_list.append(value['test_f1_macro'].mean()*100)\n",
    "    test_f1_micro_list.append(value['test_f1_micro'].mean()*100)\n"
   ]
  },
  {
   "cell_type": "code",
   "execution_count": 68,
   "id": "3440e00c",
   "metadata": {},
   "outputs": [
    {
     "data": {
      "image/png": "[encoded data removed]",
      "text/plain": [
       "<Figure size 1080x576 with 1 Axes>"
      ]
     },
     "metadata": {
      "needs_background": "light"
     },
     "output_type": "display_data"
    }
   ],
   "source": [
    "# set size of plot\n",
    "plt.figure(figsize=(15,8))\n",
    "\n",
    "# set width of bars\n",
    "barWidth = 0.25\n",
    " \n",
    "# Set position of bar on X axis\n",
    "r1 = np.arange(len(score_time_list))\n",
    "r2 = [x + barWidth for x in r1]\n",
    "r3 = [x + barWidth for x in r2]\n",
    " \n",
    "# Make the plot\n",
    "plt.bar(r1, score_time_list, color='#7f6d5f', width=barWidth, edgecolor='white', label='Score Time')\n",
    "plt.bar(r2, test_f1_macro_list, color='#557f2d', width=barWidth, edgecolor='white', label='F1 Macro')\n",
    "plt.bar(r3, test_f1_micro_list, color='#2d7f5e', width=barWidth, edgecolor='white', label='F1 Mirco')\n",
    " \n",
    "# Add xticks on the middle of the group bars\n",
    "plt.xlabel('Models', fontweight='bold')\n",
    "plt.title('Comparison Bar Graph of the Models')\n",
    "plt.xticks([r + barWidth for r in range(len(score_time_list))], models_list)\n",
    " \n",
    "# Create legend & Show graphic\n",
    "plt.legend()\n",
    "plt.show()"
   ]
  },
  {
   "cell_type": "code",
   "execution_count": 69,
   "id": "11bec71c",
   "metadata": {},
   "outputs": [
    {
     "name": "stdout",
     "output_type": "stream",
     "text": [
      "SVC F1 Macro:  6.417375425184625 F1 Mirco:  10.739868196935587\n",
      "CLR F1 Macro:  9.00548465033062 F1 Mirco:  11.419532605075958\n",
      "KNN F1 Macro:  58.989853198022324 F1 Mirco:  62.505180671051086\n",
      "SGD F1 Macro:  3.4019209611261667 F1 Mirco:  9.464939789319507\n",
      "DT F1 Macro:  44.80605124531027 F1 Mirco:  45.16045679211246\n",
      "MLP F1 Macro:  7.466269132192112 F1 Mirco:  11.889387475028974\n",
      "RF F1 Macro:  68.82944253921244 F1 Mirco:  69.35200073130014\n"
     ]
    }
   ],
   "source": [
    "for i in range(len(models_names)):\n",
    "    print(models_names[i], 'F1 Macro: ' ,test_f1_macro_list[i], 'F1 Mirco: ', test_f1_micro_list[i]) "
   ]
  },
  {
   "cell_type": "markdown",
   "id": "a4480286",
   "metadata": {},
   "source": [
    "<br/><br/><br/><br/>"
   ]
  },
  {
   "cell_type": "markdown",
   "id": "89119ea8",
   "metadata": {},
   "source": [
    "# Tuning of Different Models\n",
    " Models used : K-nearest Classifer, Random Forest<br/>\n",
    " Note: Not using Decision Tree as im already using random forest, which uses decision as a base model"
   ]
  },
  {
   "cell_type": "markdown",
   "id": "2038c547",
   "metadata": {},
   "source": [
    "## Tuning K-Nearest Classifer\n",
    "Attempt to Optimise K-Nearest Classifer for 2 < K < 50"
   ]
  },
  {
   "cell_type": "code",
   "execution_count": 72,
   "id": "4d6efb54",
   "metadata": {},
   "outputs": [],
   "source": [
    "from sklearn.model_selection import cross_val_score\n",
    "\n",
    "# Using unsplit data as cross val score has stratify split n built in K fold\n",
    "X, y = df3.iloc[:,:-1], df3.iloc[:,-1]\n",
    "f1_score_macro = []\n",
    "\n",
    "# Testing of different K value to find optimal k value, k > 100\n",
    "for i in range(2, 50):\n",
    "    knn_m = KNeighborsClassifier(n_neighbors=i)\n",
    "    score = cross_val_score(knn_m, X, y, scoring='f1_macro', cv=5, n_jobs=-1)\n",
    "    f1_score_macro.append(score.mean()) "
   ]
  },
  {
   "cell_type": "code",
   "execution_count": 73,
   "id": "840b1e80",
   "metadata": {},
   "outputs": [
    {
     "name": "stdout",
     "output_type": "stream",
     "text": [
      "Best K: 2, Best F1 Score: 57.55\n"
     ]
    },
    {
     "data": {
      "image/png": "[encoded data removed]",
      "text/plain": [
       "<Figure size 1080x720 with 1 Axes>"
      ]
     },
     "metadata": {
      "needs_background": "light"
     },
     "output_type": "display_data"
    }
   ],
   "source": [
    "import matplotlib.pyplot as plt\n",
    "\n",
    "best_score = 0\n",
    "best_k = 0\n",
    "for i in range(len(f1_score_macro)):\n",
    "    if f1_score_macro[i] > best_score:\n",
    "        best_score = f1_score_macro[i]\n",
    "        best_k = list(range(2,50))[i]\n",
    "\n",
    "print('Best K: %d, Best F1 Score: %.2f'%(best_k, best_score*100))\n",
    "plt.figure(figsize=(15,10))\n",
    "plt.plot(range(2,50), f1_score_macro, color='blue', linestyle='dashed', marker='o', markerfacecolor='red', markersize=5)\n",
    "plt.xlabel('K')\n",
    "plt.ylabel('F1 Score')\n",
    "plt.title('2 < K < 50 F1 Score Test')\n",
    "plt.show()"
   ]
  },
  {
   "cell_type": "markdown",
   "id": "408625b7",
   "metadata": {},
   "source": [
    "If k = 1"
   ]
  },
  {
   "cell_type": "code",
   "execution_count": 74,
   "id": "72e847cb",
   "metadata": {},
   "outputs": [
    {
     "data": {
      "text/plain": [
       "0.690070296910687"
      ]
     },
     "execution_count": 74,
     "metadata": {},
     "output_type": "execute_result"
    }
   ],
   "source": [
    "knn_m = KNeighborsClassifier(n_neighbors=1)\n",
    "score = cross_val_score(knn_m, X, y, scoring='f1_macro', cv=5)\n",
    "score.mean()"
   ]
  },
  {
   "cell_type": "markdown",
   "id": "c8792d7d",
   "metadata": {},
   "source": [
    "<br/><br/><br/><br/>"
   ]
  },
  {
   "cell_type": "markdown",
   "id": "7b27521e",
   "metadata": {},
   "source": [
    "## Tuning Random Forest Using RandomizedSearchCV"
   ]
  },
  {
   "cell_type": "raw",
   "id": "d2b405b6",
   "metadata": {},
   "source": [
    "# Parameters to randomise\n",
    "random_grid = {'n_estimators': [int(x) for x in np.linspace(start = 200, stop = 2000, num = 10)],\n",
    "               'max_features': ['auto', 'sqrt'],\n",
    "               'max_depth': [int(x) for x in np.linspace(10, 110, num = 11)],\n",
    "               'min_samples_split': [2, 5, 10],\n",
    "               'min_samples_leaf': [1, 2, 4],\n",
    "               'bootstrap': [True, False]}\n",
    "\n",
    "X, y = df3.iloc[:,:-1], df3.iloc[:,-1]\n",
    "X_train, x_test, y_train, y_test = train_test_split(X, y, test_size=0.2, random_state=42, stratify=y)"
   ]
  },
  {
   "cell_type": "raw",
   "id": "2d12a3e4",
   "metadata": {},
   "source": [
    "# from sklearn.model_selection import RandomizedSearchCV\n",
    "rf = RandomForestClassifier()\n",
    "\n",
    "# Random search of parameters, using 3 fold cross validation, \n",
    "rf_random = RandomizedSearchCV(estimator = rf, param_distributions = random_grid, n_iter = 100, cv = 3, verbose=2, random_state=42, n_jobs = -1)\n",
    "\n",
    "# Fit the random search model\n",
    "rf_random.fit(X_train, y_train)\n",
    "\n",
    "print('Best parameters For Random Forest:\\n', rf_random.best_estimator_.get_params())"
   ]
  },
  {
   "cell_type": "markdown",
   "id": "1e40c349",
   "metadata": {},
   "source": [
    "Best Params = {'bootstrap': False, 'ccp_alpha': 0.0, 'class_weight': None, 'criterion': 'gini', 'max_depth': 40, 'max_features': 'auto', 'max_leaf_nodes': None, 'max_samples': None, 'min_impurity_decrease': 0.0, 'min_impurity_split': None, 'min_samples_leaf': 1, 'min_samples_split': 2, 'min_weight_fraction_leaf': 0.0, 'n_estimators': 1400, 'n_jobs': None, 'oob_score': False, 'random_state': None, 'verbose': 0, 'warm_start': False}"
   ]
  },
  {
   "cell_type": "code",
   "execution_count": 75,
   "id": "fe7108df",
   "metadata": {},
   "outputs": [],
   "source": [
    "rf_optimal_params = {'bootstrap': False, \n",
    "             'ccp_alpha': 0.0, \n",
    "             'class_weight': None, \n",
    "             'criterion': 'gini', \n",
    "             'max_depth': 40, \n",
    "             'max_features': 'auto', \n",
    "             'max_leaf_nodes': None, \n",
    "             'max_samples': None, \n",
    "             'min_impurity_decrease': 0.0, \n",
    "             'min_impurity_split': None, \n",
    "             'min_samples_leaf': 1, \n",
    "             'min_samples_split': 2, \n",
    "             'min_weight_fraction_leaf': 0.0, \n",
    "             'n_estimators': 1400, \n",
    "             'n_jobs': -1, \n",
    "             'oob_score': False, \n",
    "             'random_state': None, \n",
    "             'verbose': 0, \n",
    "             'warm_start': False}"
   ]
  },
  {
   "cell_type": "code",
   "execution_count": 76,
   "id": "c4e95aa7",
   "metadata": {},
   "outputs": [
    {
     "data": {
      "text/html": [
       "<div>\n",
       "<style scoped>\n",
       "    .dataframe tbody tr th:only-of-type {\n",
       "        vertical-align: middle;\n",
       "    }\n",
       "\n",
       "    .dataframe tbody tr th {\n",
       "        vertical-align: top;\n",
       "    }\n",
       "\n",
       "    .dataframe thead th {\n",
       "        text-align: right;\n",
       "    }\n",
       "</style>\n",
       "<table border=\"1\" class=\"dataframe\">\n",
       "  <thead>\n",
       "    <tr style=\"text-align: right;\">\n",
       "      <th></th>\n",
       "      <th>0</th>\n",
       "    </tr>\n",
       "  </thead>\n",
       "  <tbody>\n",
       "    <tr>\n",
       "      <th>bootstrap</th>\n",
       "      <td>False</td>\n",
       "    </tr>\n",
       "    <tr>\n",
       "      <th>ccp_alpha</th>\n",
       "      <td>0.0</td>\n",
       "    </tr>\n",
       "    <tr>\n",
       "      <th>class_weight</th>\n",
       "      <td>None</td>\n",
       "    </tr>\n",
       "    <tr>\n",
       "      <th>criterion</th>\n",
       "      <td>gini</td>\n",
       "    </tr>\n",
       "    <tr>\n",
       "      <th>max_depth</th>\n",
       "      <td>40</td>\n",
       "    </tr>\n",
       "    <tr>\n",
       "      <th>max_features</th>\n",
       "      <td>auto</td>\n",
       "    </tr>\n",
       "    <tr>\n",
       "      <th>max_leaf_nodes</th>\n",
       "      <td>None</td>\n",
       "    </tr>\n",
       "    <tr>\n",
       "      <th>max_samples</th>\n",
       "      <td>None</td>\n",
       "    </tr>\n",
       "    <tr>\n",
       "      <th>min_impurity_decrease</th>\n",
       "      <td>0.0</td>\n",
       "    </tr>\n",
       "    <tr>\n",
       "      <th>min_impurity_split</th>\n",
       "      <td>None</td>\n",
       "    </tr>\n",
       "    <tr>\n",
       "      <th>min_samples_leaf</th>\n",
       "      <td>1</td>\n",
       "    </tr>\n",
       "    <tr>\n",
       "      <th>min_samples_split</th>\n",
       "      <td>2</td>\n",
       "    </tr>\n",
       "    <tr>\n",
       "      <th>min_weight_fraction_leaf</th>\n",
       "      <td>0.0</td>\n",
       "    </tr>\n",
       "    <tr>\n",
       "      <th>n_estimators</th>\n",
       "      <td>1400</td>\n",
       "    </tr>\n",
       "    <tr>\n",
       "      <th>n_jobs</th>\n",
       "      <td>-1</td>\n",
       "    </tr>\n",
       "    <tr>\n",
       "      <th>oob_score</th>\n",
       "      <td>False</td>\n",
       "    </tr>\n",
       "    <tr>\n",
       "      <th>random_state</th>\n",
       "      <td>None</td>\n",
       "    </tr>\n",
       "    <tr>\n",
       "      <th>verbose</th>\n",
       "      <td>0</td>\n",
       "    </tr>\n",
       "    <tr>\n",
       "      <th>warm_start</th>\n",
       "      <td>False</td>\n",
       "    </tr>\n",
       "  </tbody>\n",
       "</table>\n",
       "</div>"
      ],
      "text/plain": [
       "                              0\n",
       "bootstrap                 False\n",
       "ccp_alpha                   0.0\n",
       "class_weight               None\n",
       "criterion                  gini\n",
       "max_depth                    40\n",
       "max_features               auto\n",
       "max_leaf_nodes             None\n",
       "max_samples                None\n",
       "min_impurity_decrease       0.0\n",
       "min_impurity_split         None\n",
       "min_samples_leaf              1\n",
       "min_samples_split             2\n",
       "min_weight_fraction_leaf    0.0\n",
       "n_estimators               1400\n",
       "n_jobs                       -1\n",
       "oob_score                 False\n",
       "random_state               None\n",
       "verbose                       0\n",
       "warm_start                False"
      ]
     },
     "execution_count": 76,
     "metadata": {},
     "output_type": "execute_result"
    }
   ],
   "source": [
    "pd.DataFrame.from_dict(rf_optimal_params, orient='index')"
   ]
  },
  {
   "cell_type": "markdown",
   "id": "4b132ef3",
   "metadata": {},
   "source": [
    "<br/><br/><br/><br/><br/>"
   ]
  },
  {
   "cell_type": "markdown",
   "id": "3bedb9c1",
   "metadata": {},
   "source": [
    "## Evaluating the Optimal estimator"
   ]
  },
  {
   "cell_type": "code",
   "execution_count": 77,
   "id": "4de25232",
   "metadata": {},
   "outputs": [],
   "source": [
    "results = {}"
   ]
  },
  {
   "cell_type": "code",
   "execution_count": 78,
   "id": "4164b918",
   "metadata": {},
   "outputs": [],
   "source": [
    "X, y = df3.iloc[:,:-1], df3.iloc[:,-1]\n",
    "X_train, X_test, y_train, y_test = train_test_split(X, y, test_size=0.2, random_state=42, stratify=y)"
   ]
  },
  {
   "cell_type": "markdown",
   "id": "7f2b0238",
   "metadata": {},
   "source": [
    "### For Random Forest"
   ]
  },
  {
   "cell_type": "code",
   "execution_count": 79,
   "id": "e3cd497d",
   "metadata": {},
   "outputs": [],
   "source": [
    "# Fitting Base model of Random Forest, n_job just to speed up the computation\n",
    "rforest_base = RandomForestClassifier(n_jobs=-1)\n",
    "rforest_base.fit(X_train, y_train)\n",
    "\n",
    "# Saving Scores\n",
    "results['RForest Base'] = [f1_score(y_train, rforest_base.predict(X_train), average='macro'), \n",
    "                           f1_score(y_test, rforest_base.predict(X_test), average='macro')]"
   ]
  },
  {
   "cell_type": "code",
   "execution_count": 80,
   "id": "4f8a66d6",
   "metadata": {},
   "outputs": [],
   "source": [
    "# Fitting Optimal model of Random Forest\n",
    "rforest_optimal = RandomForestClassifier(**rf_optimal_params)\n",
    "rforest_optimal.fit(X_train, y_train)\n",
    "\n",
    "# Saving Scores\n",
    "results['RForest Optimal'] = [f1_score(y_train, rforest_optimal.predict(X_train), average='macro'), \n",
    "                           f1_score(y_test, rforest_optimal.predict(X_test), average='macro')]"
   ]
  },
  {
   "cell_type": "markdown",
   "id": "668efefc",
   "metadata": {},
   "source": [
    "### Comparison between Base model and optimised models"
   ]
  },
  {
   "cell_type": "code",
   "execution_count": 81,
   "id": "53ea4e49",
   "metadata": {},
   "outputs": [
    {
     "data": {
      "text/plain": [
       "{'RForest Base': [0.9996008918531196, 0.6861033948411075],\n",
       " 'RForest Optimal': [0.9996008605182916, 0.74012779506136]}"
      ]
     },
     "execution_count": 81,
     "metadata": {},
     "output_type": "execute_result"
    }
   ],
   "source": [
    "results"
   ]
  },
  {
   "cell_type": "code",
   "execution_count": 82,
   "id": "1dbcbbe4",
   "metadata": {},
   "outputs": [],
   "source": [
    "results_df = pd.DataFrame.from_dict(results, orient='index', columns=['Training Set F1 Score', 'Test Set F1 Score'])"
   ]
  },
  {
   "cell_type": "code",
   "execution_count": 83,
   "id": "3a10d391",
   "metadata": {},
   "outputs": [
    {
     "data": {
      "image/png": "[encoded data removed]",
      "text/plain": [
       "<Figure size 504x720 with 1 Axes>"
      ]
     },
     "metadata": {
      "needs_background": "light"
     },
     "output_type": "display_data"
    }
   ],
   "source": [
    "plt.figure(figsize=(7,10))\n",
    "# set width of bars\n",
    "barWidth = 0.2\n",
    " \n",
    "# set heights of bars\n",
    "bars1 = results_df.values[0,0:]*100\n",
    "bars2 = results_df.values[1,0:]*100\n",
    "# bars3 = results_df.values[3,0:]*100\n",
    "# bars4 = results_df.values[0:,1]*100\n",
    " \n",
    "# Set position of bar on X axis\n",
    "r1 = np.arange(len(bars1))\n",
    "r2 = [x + barWidth for x in r1]\n",
    "# r3 = [x + barWidth for x in r2]\n",
    " \n",
    "# Make the plot\n",
    "plt.bar(r1, bars1, color='#44dd66', width=barWidth, edgecolor='white', label='RForest Base')\n",
    "plt.bar(r2, bars2, color='#168b64', width=barWidth, edgecolor='white', label='RForest Optimal')\n",
    "# plt.bar(r3, bars3, color='#d94c12', width=barWidth, edgecolor='white', label='MLP Base')\n",
    " \n",
    "# Add xticks on the middle of the group bars\n",
    "plt.ylabel('F1 Score', fontweight='bold')\n",
    "plt.xlabel('Models', fontweight='bold')\n",
    "plt.xticks([r + barWidth for r in range(len(bars1))], results_df.columns)\n",
    "\n",
    "# Create legend & Show graphic\n",
    "plt.title('Comparison between Base model and Optimised models')\n",
    "plt.legend()\n",
    "plt.show()"
   ]
  },
  {
   "cell_type": "markdown",
   "id": "7fac54ce",
   "metadata": {},
   "source": [
    "<br/><br/><br/><br/>"
   ]
  },
  {
   "cell_type": "markdown",
   "id": "ba02d226",
   "metadata": {},
   "source": [
    "# Feature Selection"
   ]
  },
  {
   "cell_type": "code",
   "execution_count": 84,
   "id": "68d2d88c",
   "metadata": {},
   "outputs": [],
   "source": [
    "X, y = df3.iloc[:,:-1], df3.iloc[:,-1]\n",
    "X_train, x_test, y_train, y_test = train_test_split(X, y, test_size=0.2, random_state=42, stratify=y)"
   ]
  },
  {
   "cell_type": "code",
   "execution_count": 85,
   "id": "a2dc1a02",
   "metadata": {},
   "outputs": [
    {
     "data": {
      "text/plain": [
       "SelectFromModel(estimator=RandomForestClassifier(bootstrap=False, max_depth=40,\n",
       "                                                 n_estimators=1400, n_jobs=-1))"
      ]
     },
     "execution_count": 85,
     "metadata": {},
     "output_type": "execute_result"
    }
   ],
   "source": [
    "from sklearn.feature_selection import SelectFromModel\n",
    "\n",
    "sel = SelectFromModel(RandomForestClassifier(**rf_optimal_params))\n",
    "sel.fit(X_train, y_train)"
   ]
  },
  {
   "cell_type": "code",
   "execution_count": 86,
   "id": "d47256b3",
   "metadata": {},
   "outputs": [],
   "source": [
    "selected_feat= X_train.columns[(sel.get_support())]"
   ]
  },
  {
   "cell_type": "code",
   "execution_count": 87,
   "id": "66f8685b",
   "metadata": {},
   "outputs": [
    {
     "name": "stdout",
     "output_type": "stream",
     "text": [
      "Index(['Popularity', 'danceability', 'energy', 'key', 'loudness',\n",
      "       'speechiness', 'acousticness', 'instrumentalness', 'liveness',\n",
      "       'valence', 'tempo', 'duration_mins'],\n",
      "      dtype='object')\n"
     ]
    }
   ],
   "source": [
    "print(selected_feat)"
   ]
  },
  {
   "cell_type": "code",
   "execution_count": 88,
   "id": "28fb89bd",
   "metadata": {},
   "outputs": [
    {
     "data": {
      "image/png": "[encoded data removed]",
      "text/plain": [
       "<Figure size 504x360 with 1 Axes>"
      ]
     },
     "metadata": {
      "needs_background": "light"
     },
     "output_type": "display_data"
    }
   ],
   "source": [
    "plt.figure(figsize=(7,5))\n",
    "plt.bar(X_train.columns, sel.estimator_.feature_importances_)\n",
    "plt.xticks(rotation=60)\n",
    "plt.show()"
   ]
  },
  {
   "cell_type": "markdown",
   "id": "5c9ef259",
   "metadata": {},
   "source": [
    "## Determining if Selected Feature Provide Better or Equal Results"
   ]
  },
  {
   "cell_type": "code",
   "execution_count": 89,
   "id": "11c2f302",
   "metadata": {},
   "outputs": [
    {
     "data": {
      "text/html": [
       "<div>\n",
       "<style scoped>\n",
       "    .dataframe tbody tr th:only-of-type {\n",
       "        vertical-align: middle;\n",
       "    }\n",
       "\n",
       "    .dataframe tbody tr th {\n",
       "        vertical-align: top;\n",
       "    }\n",
       "\n",
       "    .dataframe thead th {\n",
       "        text-align: right;\n",
       "    }\n",
       "</style>\n",
       "<table border=\"1\" class=\"dataframe\">\n",
       "  <thead>\n",
       "    <tr style=\"text-align: right;\">\n",
       "      <th></th>\n",
       "      <th>Popularity</th>\n",
       "      <th>danceability</th>\n",
       "      <th>energy</th>\n",
       "      <th>key</th>\n",
       "      <th>loudness</th>\n",
       "      <th>speechiness</th>\n",
       "      <th>acousticness</th>\n",
       "      <th>instrumentalness</th>\n",
       "      <th>liveness</th>\n",
       "      <th>valence</th>\n",
       "      <th>tempo</th>\n",
       "      <th>duration_mins</th>\n",
       "      <th>Class</th>\n",
       "    </tr>\n",
       "  </thead>\n",
       "  <tbody>\n",
       "    <tr>\n",
       "      <th>0</th>\n",
       "      <td>0.905016</td>\n",
       "      <td>2.077703</td>\n",
       "      <td>-0.590420</td>\n",
       "      <td>-1.781548</td>\n",
       "      <td>0.833292</td>\n",
       "      <td>-0.417539</td>\n",
       "      <td>-0.812656</td>\n",
       "      <td>-0.236648</td>\n",
       "      <td>-0.814060</td>\n",
       "      <td>1.935122</td>\n",
       "      <td>0.409348</td>\n",
       "      <td>0.057716</td>\n",
       "      <td>5</td>\n",
       "    </tr>\n",
       "    <tr>\n",
       "      <th>1</th>\n",
       "      <td>0.546169</td>\n",
       "      <td>-1.252460</td>\n",
       "      <td>0.696136</td>\n",
       "      <td>-1.058714</td>\n",
       "      <td>0.049452</td>\n",
       "      <td>-0.536510</td>\n",
       "      <td>-0.874830</td>\n",
       "      <td>-0.636199</td>\n",
       "      <td>-0.686606</td>\n",
       "      <td>0.341038</td>\n",
       "      <td>-0.214270</td>\n",
       "      <td>0.337804</td>\n",
       "      <td>10</td>\n",
       "    </tr>\n",
       "    <tr>\n",
       "      <th>2</th>\n",
       "      <td>-0.590178</td>\n",
       "      <td>-0.885577</td>\n",
       "      <td>-0.333109</td>\n",
       "      <td>0.025537</td>\n",
       "      <td>-0.332436</td>\n",
       "      <td>-0.357300</td>\n",
       "      <td>1.009412</td>\n",
       "      <td>-0.655994</td>\n",
       "      <td>1.632889</td>\n",
       "      <td>1.394099</td>\n",
       "      <td>0.891123</td>\n",
       "      <td>-1.984129</td>\n",
       "      <td>6</td>\n",
       "    </tr>\n",
       "    <tr>\n",
       "      <th>3</th>\n",
       "      <td>1.263862</td>\n",
       "      <td>2.070648</td>\n",
       "      <td>-0.420595</td>\n",
       "      <td>1.471205</td>\n",
       "      <td>0.292283</td>\n",
       "      <td>-0.312121</td>\n",
       "      <td>-0.796724</td>\n",
       "      <td>-0.292731</td>\n",
       "      <td>-0.520363</td>\n",
       "      <td>0.341038</td>\n",
       "      <td>-0.547761</td>\n",
       "      <td>-0.933191</td>\n",
       "      <td>5</td>\n",
       "    </tr>\n",
       "    <tr>\n",
       "      <th>4</th>\n",
       "      <td>0.486361</td>\n",
       "      <td>-2.289608</td>\n",
       "      <td>1.534971</td>\n",
       "      <td>0.025537</td>\n",
       "      <td>2.854116</td>\n",
       "      <td>0.463452</td>\n",
       "      <td>-0.865387</td>\n",
       "      <td>-0.625663</td>\n",
       "      <td>-0.124545</td>\n",
       "      <td>-1.243385</td>\n",
       "      <td>1.077710</td>\n",
       "      <td>-0.374796</td>\n",
       "      <td>10</td>\n",
       "    </tr>\n",
       "  </tbody>\n",
       "</table>\n",
       "</div>"
      ],
      "text/plain": [
       "   Popularity  danceability    energy       key  loudness  speechiness  \\\n",
       "0    0.905016      2.077703 -0.590420 -1.781548  0.833292    -0.417539   \n",
       "1    0.546169     -1.252460  0.696136 -1.058714  0.049452    -0.536510   \n",
       "2   -0.590178     -0.885577 -0.333109  0.025537 -0.332436    -0.357300   \n",
       "3    1.263862      2.070648 -0.420595  1.471205  0.292283    -0.312121   \n",
       "4    0.486361     -2.289608  1.534971  0.025537  2.854116     0.463452   \n",
       "\n",
       "   acousticness  instrumentalness  liveness   valence     tempo  \\\n",
       "0     -0.812656         -0.236648 -0.814060  1.935122  0.409348   \n",
       "1     -0.874830         -0.636199 -0.686606  0.341038 -0.214270   \n",
       "2      1.009412         -0.655994  1.632889  1.394099  0.891123   \n",
       "3     -0.796724         -0.292731 -0.520363  0.341038 -0.547761   \n",
       "4     -0.865387         -0.625663 -0.124545 -1.243385  1.077710   \n",
       "\n",
       "   duration_mins  Class  \n",
       "0       0.057716      5  \n",
       "1       0.337804     10  \n",
       "2      -1.984129      6  \n",
       "3      -0.933191      5  \n",
       "4      -0.374796     10  "
      ]
     },
     "execution_count": 89,
     "metadata": {},
     "output_type": "execute_result"
    }
   ],
   "source": [
    "df4 = df3[selected_feat].join(df3['Class'])\n",
    "df4.head()"
   ]
  },
  {
   "cell_type": "code",
   "execution_count": 92,
   "id": "5ca81ba0",
   "metadata": {},
   "outputs": [
    {
     "data": {
      "text/plain": [
       "(43846, 15)"
      ]
     },
     "execution_count": 92,
     "metadata": {},
     "output_type": "execute_result"
    }
   ],
   "source": [
    "df3.shape"
   ]
  },
  {
   "cell_type": "code",
   "execution_count": 93,
   "id": "780f5319",
   "metadata": {
    "slideshow": {
     "slide_type": "-"
    }
   },
   "outputs": [
    {
     "name": "stdout",
     "output_type": "stream",
     "text": [
      "Using all features\n",
      "              precision    recall  f1-score   support\n",
      "\n",
      "           0       0.83      0.89      0.86       797\n",
      "           1       0.80      0.81      0.81       797\n",
      "           2       0.78      0.77      0.78       797\n",
      "           3       0.89      0.95      0.92       798\n",
      "           4       0.88      0.94      0.91       797\n",
      "           5       0.76      0.72      0.74       797\n",
      "           6       0.67      0.59      0.62       798\n",
      "           7       0.85      0.91      0.88       798\n",
      "           8       0.72      0.64      0.68       797\n",
      "           9       0.62      0.52      0.57       797\n",
      "          10       0.36      0.42      0.39       797\n",
      "\n",
      "    accuracy                           0.74      8770\n",
      "   macro avg       0.74      0.74      0.74      8770\n",
      "weighted avg       0.74      0.74      0.74      8770\n",
      "\n"
     ]
    }
   ],
   "source": [
    "rforest = RandomForestClassifier(**rf_optimal_params)\n",
    "\n",
    "X, y = df3.iloc[:,:-1], df3.iloc[:,-1]\n",
    "X_train, X_test, y_train, y_test = train_test_split(X, y, test_size=0.2, random_state=42, stratify=y)\n",
    "\n",
    "rforest.fit(X_train, y_train)\n",
    "print('Using all features')\n",
    "print(classification_report(y_test, rforest.predict(X_test)))"
   ]
  },
  {
   "cell_type": "code",
   "execution_count": 94,
   "id": "db4a67db",
   "metadata": {},
   "outputs": [
    {
     "data": {
      "text/plain": [
       "(43846, 13)"
      ]
     },
     "execution_count": 94,
     "metadata": {},
     "output_type": "execute_result"
    }
   ],
   "source": [
    "df4.shape"
   ]
  },
  {
   "cell_type": "code",
   "execution_count": 95,
   "id": "78f17d9a",
   "metadata": {},
   "outputs": [
    {
     "name": "stdout",
     "output_type": "stream",
     "text": [
      "Using selected features\n",
      "              precision    recall  f1-score   support\n",
      "\n",
      "           0       0.83      0.90      0.87       797\n",
      "           1       0.80      0.81      0.81       797\n",
      "           2       0.75      0.75      0.75       797\n",
      "           3       0.88      0.96      0.92       798\n",
      "           4       0.88      0.94      0.91       797\n",
      "           5       0.72      0.72      0.72       797\n",
      "           6       0.65      0.58      0.61       798\n",
      "           7       0.86      0.91      0.89       798\n",
      "           8       0.73      0.63      0.68       797\n",
      "           9       0.61      0.51      0.55       797\n",
      "          10       0.36      0.40      0.37       797\n",
      "\n",
      "    accuracy                           0.74      8770\n",
      "   macro avg       0.73      0.74      0.73      8770\n",
      "weighted avg       0.73      0.74      0.73      8770\n",
      "\n"
     ]
    }
   ],
   "source": [
    "rforest = RandomForestClassifier(**rf_optimal_params)\n",
    "\n",
    "X, y = df4.iloc[:,:-1], df4.iloc[:,-1]\n",
    "X_train, X_test, y_train, y_test = train_test_split(X, y, test_size=0.2, random_state=42, stratify=y)\n",
    "\n",
    "rforest.fit(X_train, y_train)\n",
    "print('Using selected features')\n",
    "print(classification_report(y_test, rforest.predict(X_test)))"
   ]
  },
  {
   "cell_type": "markdown",
   "id": "fec1d321",
   "metadata": {},
   "source": [
    "F1 Score is similar between the usage of all feature and usage of selected feature (everything except time_signature & mode)"
   ]
  },
  {
   "cell_type": "markdown",
   "id": "ed20f524",
   "metadata": {},
   "source": [
    "<br/><br/><br/><br/>"
   ]
  },
  {
   "cell_type": "markdown",
   "id": "d1a5289a",
   "metadata": {},
   "source": [
    "# Prediction"
   ]
  },
  {
   "cell_type": "markdown",
   "id": "63e8c9e1",
   "metadata": {},
   "source": [
    "### Get back orignal non-standardised values as Random Forest does not require scaled data"
   ]
  },
  {
   "cell_type": "code",
   "execution_count": 96,
   "id": "a36f0580",
   "metadata": {},
   "outputs": [],
   "source": [
    "X, y = df3.iloc[:,:-1], df3.iloc[:,-1]\n",
    "X_og = scaler.inverse_transform(X)"
   ]
  },
  {
   "cell_type": "code",
   "execution_count": 97,
   "id": "107e5a6c",
   "metadata": {},
   "outputs": [],
   "source": [
    "df5 = pd.DataFrame(X_og, columns=df3.columns[:-1])"
   ]
  },
  {
   "cell_type": "code",
   "execution_count": 98,
   "id": "691f7411",
   "metadata": {},
   "outputs": [],
   "source": [
    "df5 = df5[selected_feat].join(df3['Class'])"
   ]
  },
  {
   "cell_type": "code",
   "execution_count": 99,
   "id": "5ed77f44",
   "metadata": {},
   "outputs": [],
   "source": [
    "def minMax(x):\n",
    "    return pd.Series(index=['min','max'],data=[x.min(),x.max()])"
   ]
  },
  {
   "cell_type": "code",
   "execution_count": 100,
   "id": "e1341e16",
   "metadata": {},
   "outputs": [],
   "source": [
    "range_of_values = df5.apply(minMax).to_dict()"
   ]
  },
  {
   "cell_type": "markdown",
   "id": "80db97bc",
   "metadata": {},
   "source": [
    "### Model Fitting"
   ]
  },
  {
   "cell_type": "code",
   "execution_count": 101,
   "id": "fdad9376",
   "metadata": {},
   "outputs": [
    {
     "data": {
      "text/plain": [
       "[0.9996008649850793, 0.7339950722510363]"
      ]
     },
     "execution_count": 101,
     "metadata": {},
     "output_type": "execute_result"
    }
   ],
   "source": [
    "X, y = df5.iloc[:,:-1], df5.iloc[:,-1]\n",
    "X_train, X_test, y_train, y_test = train_test_split(X, y, test_size=0.2, random_state=42, stratify=y)\n",
    "\n",
    "rforest = RandomForestClassifier(**rf_optimal_params)\n",
    "rforest.fit(X_train, y_train)\n",
    "[f1_score(y_train, rforest.predict(X_train), average='macro'), f1_score(y_test, rforest.predict(X_test), average='macro')]"
   ]
  },
  {
   "cell_type": "markdown",
   "id": "810df14a",
   "metadata": {},
   "source": [
    "### Function for Predicting"
   ]
  },
  {
   "cell_type": "code",
   "execution_count": 102,
   "id": "90f9711b",
   "metadata": {},
   "outputs": [],
   "source": [
    "def predict_class(data=[]):\n",
    "    if data == []:\n",
    "        data = []\n",
    "        for column in df5.columns[:-1]:\n",
    "            column_data = float(input('Enter %s (Max=%.5f, Min=%.5f)'%(column, range_of_values[column]['max'], range_of_values[column]['min'])))\n",
    "            if range_of_values[column]['max'] < column_data or range_of_values[column]['min'] > column_data:\n",
    "                print('Range is out of Training Data, Hence might provide inaccurate result')\n",
    "            data.append(column_data)\n",
    "    else:\n",
    "        pass\n",
    "        \n",
    "    return 'From Data provided, the music belong to Class:', rforest.predict(np.array(data).reshape(1, -1))[0]"
   ]
  },
  {
   "cell_type": "code",
   "execution_count": 103,
   "id": "b933d442",
   "metadata": {},
   "outputs": [
    {
     "data": {
      "text/html": [
       "<div>\n",
       "<style scoped>\n",
       "    .dataframe tbody tr th:only-of-type {\n",
       "        vertical-align: middle;\n",
       "    }\n",
       "\n",
       "    .dataframe tbody tr th {\n",
       "        vertical-align: top;\n",
       "    }\n",
       "\n",
       "    .dataframe thead th {\n",
       "        text-align: right;\n",
       "    }\n",
       "</style>\n",
       "<table border=\"1\" class=\"dataframe\">\n",
       "  <thead>\n",
       "    <tr style=\"text-align: right;\">\n",
       "      <th></th>\n",
       "      <th>Popularity</th>\n",
       "      <th>danceability</th>\n",
       "      <th>energy</th>\n",
       "      <th>key</th>\n",
       "      <th>loudness</th>\n",
       "      <th>speechiness</th>\n",
       "      <th>acousticness</th>\n",
       "      <th>instrumentalness</th>\n",
       "      <th>liveness</th>\n",
       "      <th>valence</th>\n",
       "      <th>tempo</th>\n",
       "      <th>duration_mins</th>\n",
       "      <th>Class</th>\n",
       "    </tr>\n",
       "  </thead>\n",
       "  <tbody>\n",
       "    <tr>\n",
       "      <th>0</th>\n",
       "      <td>60.0</td>\n",
       "      <td>0.854</td>\n",
       "      <td>0.564</td>\n",
       "      <td>1.0</td>\n",
       "      <td>-4.964</td>\n",
       "      <td>0.0485</td>\n",
       "      <td>0.0171</td>\n",
       "      <td>0.080992</td>\n",
       "      <td>0.0849</td>\n",
       "      <td>0.899</td>\n",
       "      <td>134.071</td>\n",
       "      <td>3.909933</td>\n",
       "      <td>5</td>\n",
       "    </tr>\n",
       "    <tr>\n",
       "      <th>1</th>\n",
       "      <td>54.0</td>\n",
       "      <td>0.382</td>\n",
       "      <td>0.814</td>\n",
       "      <td>3.0</td>\n",
       "      <td>-7.230</td>\n",
       "      <td>0.0406</td>\n",
       "      <td>0.0011</td>\n",
       "      <td>0.004010</td>\n",
       "      <td>0.1010</td>\n",
       "      <td>0.569</td>\n",
       "      <td>116.454</td>\n",
       "      <td>4.195550</td>\n",
       "      <td>10</td>\n",
       "    </tr>\n",
       "    <tr>\n",
       "      <th>2</th>\n",
       "      <td>35.0</td>\n",
       "      <td>0.434</td>\n",
       "      <td>0.614</td>\n",
       "      <td>6.0</td>\n",
       "      <td>-8.334</td>\n",
       "      <td>0.0525</td>\n",
       "      <td>0.4860</td>\n",
       "      <td>0.000196</td>\n",
       "      <td>0.3940</td>\n",
       "      <td>0.787</td>\n",
       "      <td>147.681</td>\n",
       "      <td>1.827783</td>\n",
       "      <td>6</td>\n",
       "    </tr>\n",
       "  </tbody>\n",
       "</table>\n",
       "</div>"
      ],
      "text/plain": [
       "   Popularity  danceability  energy  key  loudness  speechiness  acousticness  \\\n",
       "0        60.0         0.854   0.564  1.0    -4.964       0.0485        0.0171   \n",
       "1        54.0         0.382   0.814  3.0    -7.230       0.0406        0.0011   \n",
       "2        35.0         0.434   0.614  6.0    -8.334       0.0525        0.4860   \n",
       "\n",
       "   instrumentalness  liveness  valence    tempo  duration_mins  Class  \n",
       "0          0.080992    0.0849    0.899  134.071       3.909933      5  \n",
       "1          0.004010    0.1010    0.569  116.454       4.195550     10  \n",
       "2          0.000196    0.3940    0.787  147.681       1.827783      6  "
      ]
     },
     "execution_count": 103,
     "metadata": {},
     "output_type": "execute_result"
    }
   ],
   "source": [
    "df5.iloc[0:3]"
   ]
  },
  {
   "cell_type": "code",
   "execution_count": 104,
   "id": "bca09654",
   "metadata": {},
   "outputs": [
    {
     "data": {
      "text/plain": [
       "('From Data provided, the music belong to Class:', 5)"
      ]
     },
     "execution_count": 104,
     "metadata": {},
     "output_type": "execute_result"
    }
   ],
   "source": [
    "predict_class(df5.iloc[0].to_list()[:-1])"
   ]
  },
  {
   "cell_type": "code",
   "execution_count": 105,
   "id": "e18a18f2",
   "metadata": {},
   "outputs": [
    {
     "data": {
      "text/plain": [
       "('From Data provided, the music belong to Class:', 10)"
      ]
     },
     "execution_count": 105,
     "metadata": {},
     "output_type": "execute_result"
    }
   ],
   "source": [
    "predict_class(df5.iloc[1].to_list()[:-1])"
   ]
  },
  {
   "cell_type": "code",
   "execution_count": 106,
   "id": "b55d50ba",
   "metadata": {},
   "outputs": [
    {
     "data": {
      "text/plain": [
       "('From Data provided, the music belong to Class:', 6)"
      ]
     },
     "execution_count": 106,
     "metadata": {},
     "output_type": "execute_result"
    }
   ],
   "source": [
    "predict_class(df5.iloc[2].to_list()[:-1])"
   ]
  },
  {
   "cell_type": "code",
   "execution_count": 108,
   "id": "05f09d1f",
   "metadata": {},
   "outputs": [
    {
     "name": "stdout",
     "output_type": "stream",
     "text": [
      "Enter Popularity (Max=100.00000, Min=1.00000)100\n",
      "Enter danceability (Max=0.98900, Min=0.06900)0.989\n",
      "Enter energy (Max=1.00000, Min=0.01710)1\n",
      "Enter key (Max=11.00000, Min=1.00000)11\n",
      "Enter loudness (Max=1.34200, Min=-28.01300)1.34\n",
      "Enter speechiness (Max=0.61900, Min=0.02250)0.619\n",
      "Enter acousticness (Max=0.99600, Min=0.00000)0.996\n",
      "Enter instrumentalness (Max=0.99600, Min=0.00000)0.996\n",
      "Enter liveness (Max=1.00000, Min=0.01190)1\n",
      "Enter valence (Max=0.98600, Min=0.01830)0.986\n",
      "Enter tempo (Max=217.41600, Min=42.95600)217.41\n",
      "Enter duration_mins (Max=23.29155, Min=0.38867)23.2\n"
     ]
    },
    {
     "data": {
      "text/plain": [
       "('From Data provided, the music belong to Class:', 10)"
      ]
     },
     "execution_count": 108,
     "metadata": {},
     "output_type": "execute_result"
    }
   ],
   "source": [
    "predict_class()"
   ]
  },
  {
   "cell_type": "code",
   "execution_count": null,
   "id": "e7b8d105",
   "metadata": {},
   "outputs": [],
   "source": []
  }
 ],
 "metadata": {
  "kernelspec": {
   "display_name": "Python 3",
   "language": "python",
   "name": "python3"
  },
  "language_info": {
   "codemirror_mode": {
    "name": "ipython",
    "version": 3
   },
   "file_extension": ".py",
   "mimetype": "text/x-python",
   "name": "python",
   "nbconvert_exporter": "python",
   "pygments_lexer": "ipython3",
   "version": "3.8.8"
  }
 },
 "nbformat": 4,
 "nbformat_minor": 5
}
